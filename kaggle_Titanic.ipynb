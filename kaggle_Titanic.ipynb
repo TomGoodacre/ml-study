{
 "cells": [
  {
   "cell_type": "markdown",
   "metadata": {},
   "source": [
    "# Pre-flight checks"
   ]
  },
  {
   "cell_type": "markdown",
   "metadata": {},
   "source": [
    "Import common modules, ensure MatplotLib plots figures inline, and prepare a function to save the figures."
   ]
  },
  {
   "cell_type": "code",
   "execution_count": 2,
   "metadata": {},
   "outputs": [],
   "source": [
    "import numpy as np\n",
    "import os\n",
    "\n",
    "np.random.seed(42)\n",
    "\n",
    "# To plot pretty figures\n",
    "%matplotlib inline\n",
    "import matplotlib as mpl\n",
    "import matplotlib.pyplot as plt\n",
    "mpl.rc('axes', labelsize=14)\n",
    "mpl.rc('xtick', labelsize=12)\n",
    "mpl.rc('ytick', labelsize=12)\n",
    "\n",
    "# Where to save associated data/images\n",
    "PROJECT_ROOT_DIR = \".\"\n",
    "KAGGLE_COMP_ID = \"titanic\"\n",
    "IMAGES_PATH = os.path.join(PROJECT_ROOT_DIR, \"images\", KAGGLE_COMP_ID)\n",
    "\n",
    "def save_fig(fig_id, tight_layout=True, fig_extension=\"png\", resolution=300):\n",
    "    path = os.path.join(IMAGES_PATH, fig_id + \".\" + fig_extension)\n",
    "    print(\"Saving figure\", fig_id)\n",
    "    if tight_layout:\n",
    "        plt.tight_layout()\n",
    "    plt.savefig(path, format=fig_extension, dpi=resolution)"
   ]
  },
  {
   "cell_type": "markdown",
   "metadata": {},
   "source": [
    "# Load the data"
   ]
  },
  {
   "cell_type": "markdown",
   "metadata": {},
   "source": [
    "Downloaded from the kaggle server"
   ]
  },
  {
   "cell_type": "code",
   "execution_count": 3,
   "metadata": {},
   "outputs": [
    {
     "data": {
      "text/plain": [
       "<module 'ntpath' from 'C:\\\\Anaconda3\\\\envs\\\\mlenv1\\\\lib\\\\ntpath.py'>"
      ]
     },
     "execution_count": 3,
     "metadata": {},
     "output_type": "execute_result"
    }
   ],
   "source": [
    "import os\n",
    "import pandas as pd\n",
    "\n",
    "DATA_PATH = os.path.join(\"datasets\", \"titanic\")\n",
    "def load_titanic_data(titanic_data_path=DATA_PATH):\n",
    "    csv_path = os.path.join(titanic_data_path, \"train.csv\")\n",
    "    return pd.read_csv(csv_path)\n",
    "os.path"
   ]
  },
  {
   "cell_type": "code",
   "execution_count": 4,
   "metadata": {},
   "outputs": [
    {
     "name": "stdout",
     "output_type": "stream",
     "text": [
      "\n",
      "INSTALLED VERSIONS\n",
      "------------------\n",
      "commit           : b5958ee1999e9aead1938c0bba2b674378807b3d\n",
      "python           : 3.6.13.final.0\n",
      "python-bits      : 64\n",
      "OS               : Windows\n",
      "OS-release       : 10\n",
      "Version          : 10.0.19041\n",
      "machine          : AMD64\n",
      "processor        : Intel64 Family 6 Model 58 Stepping 9, GenuineIntel\n",
      "byteorder        : little\n",
      "LC_ALL           : None\n",
      "LANG             : None\n",
      "LOCALE           : None.None\n",
      "\n",
      "pandas           : 1.1.5\n",
      "numpy            : 1.19.2\n",
      "pytz             : 2021.1\n",
      "dateutil         : 2.8.1\n",
      "pip              : 21.0.1\n",
      "setuptools       : 52.0.0.post20210125\n",
      "Cython           : 0.29.23\n",
      "pytest           : None\n",
      "hypothesis       : None\n",
      "sphinx           : None\n",
      "blosc            : None\n",
      "feather          : None\n",
      "xlsxwriter       : None\n",
      "lxml.etree       : None\n",
      "html5lib         : None\n",
      "pymysql          : None\n",
      "psycopg2         : None\n",
      "jinja2           : 2.11.3\n",
      "IPython          : 7.16.1\n",
      "pandas_datareader: None\n",
      "bs4              : None\n",
      "bottleneck       : None\n",
      "fsspec           : None\n",
      "fastparquet      : None\n",
      "gcsfs            : None\n",
      "matplotlib       : 2.2.2\n",
      "numexpr          : None\n",
      "odfpy            : None\n",
      "openpyxl         : None\n",
      "pandas_gbq       : None\n",
      "pyarrow          : None\n",
      "pytables         : None\n",
      "pyxlsb           : None\n",
      "s3fs             : None\n",
      "scipy            : 1.5.2\n",
      "sqlalchemy       : None\n",
      "tables           : None\n",
      "tabulate         : None\n",
      "xarray           : None\n",
      "xlrd             : None\n",
      "xlwt             : None\n",
      "numba            : None\n"
     ]
    }
   ],
   "source": [
    "titanic = load_titanic_data()\n",
    "pd.show_versions()"
   ]
  },
  {
   "cell_type": "markdown",
   "metadata": {},
   "source": [
    "# Have a quick butcher's at the data"
   ]
  },
  {
   "cell_type": "code",
   "execution_count": 5,
   "metadata": {},
   "outputs": [
    {
     "data": {
      "text/html": [
       "<div>\n",
       "<style scoped>\n",
       "    .dataframe tbody tr th:only-of-type {\n",
       "        vertical-align: middle;\n",
       "    }\n",
       "\n",
       "    .dataframe tbody tr th {\n",
       "        vertical-align: top;\n",
       "    }\n",
       "\n",
       "    .dataframe thead th {\n",
       "        text-align: right;\n",
       "    }\n",
       "</style>\n",
       "<table border=\"1\" class=\"dataframe\">\n",
       "  <thead>\n",
       "    <tr style=\"text-align: right;\">\n",
       "      <th></th>\n",
       "      <th>PassengerId</th>\n",
       "      <th>Survived</th>\n",
       "      <th>Pclass</th>\n",
       "      <th>Name</th>\n",
       "      <th>Sex</th>\n",
       "      <th>Age</th>\n",
       "      <th>SibSp</th>\n",
       "      <th>Parch</th>\n",
       "      <th>Ticket</th>\n",
       "      <th>Fare</th>\n",
       "      <th>Cabin</th>\n",
       "      <th>Embarked</th>\n",
       "    </tr>\n",
       "  </thead>\n",
       "  <tbody>\n",
       "    <tr>\n",
       "      <th>0</th>\n",
       "      <td>1</td>\n",
       "      <td>0</td>\n",
       "      <td>3</td>\n",
       "      <td>Braund, Mr. Owen Harris</td>\n",
       "      <td>male</td>\n",
       "      <td>22.0</td>\n",
       "      <td>1</td>\n",
       "      <td>0</td>\n",
       "      <td>A/5 21171</td>\n",
       "      <td>7.2500</td>\n",
       "      <td>NaN</td>\n",
       "      <td>S</td>\n",
       "    </tr>\n",
       "    <tr>\n",
       "      <th>1</th>\n",
       "      <td>2</td>\n",
       "      <td>1</td>\n",
       "      <td>1</td>\n",
       "      <td>Cumings, Mrs. John Bradley (Florence Briggs Th...</td>\n",
       "      <td>female</td>\n",
       "      <td>38.0</td>\n",
       "      <td>1</td>\n",
       "      <td>0</td>\n",
       "      <td>PC 17599</td>\n",
       "      <td>71.2833</td>\n",
       "      <td>C85</td>\n",
       "      <td>C</td>\n",
       "    </tr>\n",
       "    <tr>\n",
       "      <th>2</th>\n",
       "      <td>3</td>\n",
       "      <td>1</td>\n",
       "      <td>3</td>\n",
       "      <td>Heikkinen, Miss. Laina</td>\n",
       "      <td>female</td>\n",
       "      <td>26.0</td>\n",
       "      <td>0</td>\n",
       "      <td>0</td>\n",
       "      <td>STON/O2. 3101282</td>\n",
       "      <td>7.9250</td>\n",
       "      <td>NaN</td>\n",
       "      <td>S</td>\n",
       "    </tr>\n",
       "    <tr>\n",
       "      <th>3</th>\n",
       "      <td>4</td>\n",
       "      <td>1</td>\n",
       "      <td>1</td>\n",
       "      <td>Futrelle, Mrs. Jacques Heath (Lily May Peel)</td>\n",
       "      <td>female</td>\n",
       "      <td>35.0</td>\n",
       "      <td>1</td>\n",
       "      <td>0</td>\n",
       "      <td>113803</td>\n",
       "      <td>53.1000</td>\n",
       "      <td>C123</td>\n",
       "      <td>S</td>\n",
       "    </tr>\n",
       "    <tr>\n",
       "      <th>4</th>\n",
       "      <td>5</td>\n",
       "      <td>0</td>\n",
       "      <td>3</td>\n",
       "      <td>Allen, Mr. William Henry</td>\n",
       "      <td>male</td>\n",
       "      <td>35.0</td>\n",
       "      <td>0</td>\n",
       "      <td>0</td>\n",
       "      <td>373450</td>\n",
       "      <td>8.0500</td>\n",
       "      <td>NaN</td>\n",
       "      <td>S</td>\n",
       "    </tr>\n",
       "  </tbody>\n",
       "</table>\n",
       "</div>"
      ],
      "text/plain": [
       "   PassengerId  Survived  Pclass  \\\n",
       "0            1         0       3   \n",
       "1            2         1       1   \n",
       "2            3         1       3   \n",
       "3            4         1       1   \n",
       "4            5         0       3   \n",
       "\n",
       "                                                Name     Sex   Age  SibSp  \\\n",
       "0                            Braund, Mr. Owen Harris    male  22.0      1   \n",
       "1  Cumings, Mrs. John Bradley (Florence Briggs Th...  female  38.0      1   \n",
       "2                             Heikkinen, Miss. Laina  female  26.0      0   \n",
       "3       Futrelle, Mrs. Jacques Heath (Lily May Peel)  female  35.0      1   \n",
       "4                           Allen, Mr. William Henry    male  35.0      0   \n",
       "\n",
       "   Parch            Ticket     Fare Cabin Embarked  \n",
       "0      0         A/5 21171   7.2500   NaN        S  \n",
       "1      0          PC 17599  71.2833   C85        C  \n",
       "2      0  STON/O2. 3101282   7.9250   NaN        S  \n",
       "3      0            113803  53.1000  C123        S  \n",
       "4      0            373450   8.0500   NaN        S  "
      ]
     },
     "execution_count": 5,
     "metadata": {},
     "output_type": "execute_result"
    }
   ],
   "source": [
    "titanic.head()"
   ]
  },
  {
   "cell_type": "code",
   "execution_count": 6,
   "metadata": {},
   "outputs": [
    {
     "name": "stdout",
     "output_type": "stream",
     "text": [
      "<class 'pandas.core.frame.DataFrame'>\n",
      "RangeIndex: 891 entries, 0 to 890\n",
      "Data columns (total 12 columns):\n",
      " #   Column       Non-Null Count  Dtype  \n",
      "---  ------       --------------  -----  \n",
      " 0   PassengerId  891 non-null    int64  \n",
      " 1   Survived     891 non-null    int64  \n",
      " 2   Pclass       891 non-null    int64  \n",
      " 3   Name         891 non-null    object \n",
      " 4   Sex          891 non-null    object \n",
      " 5   Age          714 non-null    float64\n",
      " 6   SibSp        891 non-null    int64  \n",
      " 7   Parch        891 non-null    int64  \n",
      " 8   Ticket       891 non-null    object \n",
      " 9   Fare         891 non-null    float64\n",
      " 10  Cabin        204 non-null    object \n",
      " 11  Embarked     889 non-null    object \n",
      "dtypes: float64(2), int64(5), object(5)\n",
      "memory usage: 83.7+ KB\n"
     ]
    }
   ],
   "source": [
    "titanic.info()"
   ]
  },
  {
   "cell_type": "markdown",
   "metadata": {},
   "source": [
    "<font color=red size=4>NOTE: missing features |Age|Cabin|Embarked|</font><br>\n",
    "<font color=red size=4>NOTE: non-numerical values |Name|Sex|Ticket|Cabin|Embarked|</font>\n",
    "\n",
    "**{includes labels}**"
   ]
  },
  {
   "cell_type": "code",
   "execution_count": 7,
   "metadata": {},
   "outputs": [
    {
     "data": {
      "text/html": [
       "<div>\n",
       "<style scoped>\n",
       "    .dataframe tbody tr th:only-of-type {\n",
       "        vertical-align: middle;\n",
       "    }\n",
       "\n",
       "    .dataframe tbody tr th {\n",
       "        vertical-align: top;\n",
       "    }\n",
       "\n",
       "    .dataframe thead th {\n",
       "        text-align: right;\n",
       "    }\n",
       "</style>\n",
       "<table border=\"1\" class=\"dataframe\">\n",
       "  <thead>\n",
       "    <tr style=\"text-align: right;\">\n",
       "      <th></th>\n",
       "      <th>PassengerId</th>\n",
       "      <th>Survived</th>\n",
       "      <th>Pclass</th>\n",
       "      <th>Age</th>\n",
       "      <th>SibSp</th>\n",
       "      <th>Parch</th>\n",
       "      <th>Fare</th>\n",
       "    </tr>\n",
       "  </thead>\n",
       "  <tbody>\n",
       "    <tr>\n",
       "      <th>count</th>\n",
       "      <td>891.000000</td>\n",
       "      <td>891.000000</td>\n",
       "      <td>891.000000</td>\n",
       "      <td>714.000000</td>\n",
       "      <td>891.000000</td>\n",
       "      <td>891.000000</td>\n",
       "      <td>891.000000</td>\n",
       "    </tr>\n",
       "    <tr>\n",
       "      <th>mean</th>\n",
       "      <td>446.000000</td>\n",
       "      <td>0.383838</td>\n",
       "      <td>2.308642</td>\n",
       "      <td>29.699118</td>\n",
       "      <td>0.523008</td>\n",
       "      <td>0.381594</td>\n",
       "      <td>32.204208</td>\n",
       "    </tr>\n",
       "    <tr>\n",
       "      <th>std</th>\n",
       "      <td>257.353842</td>\n",
       "      <td>0.486592</td>\n",
       "      <td>0.836071</td>\n",
       "      <td>14.526497</td>\n",
       "      <td>1.102743</td>\n",
       "      <td>0.806057</td>\n",
       "      <td>49.693429</td>\n",
       "    </tr>\n",
       "    <tr>\n",
       "      <th>min</th>\n",
       "      <td>1.000000</td>\n",
       "      <td>0.000000</td>\n",
       "      <td>1.000000</td>\n",
       "      <td>0.420000</td>\n",
       "      <td>0.000000</td>\n",
       "      <td>0.000000</td>\n",
       "      <td>0.000000</td>\n",
       "    </tr>\n",
       "    <tr>\n",
       "      <th>25%</th>\n",
       "      <td>223.500000</td>\n",
       "      <td>0.000000</td>\n",
       "      <td>2.000000</td>\n",
       "      <td>20.125000</td>\n",
       "      <td>0.000000</td>\n",
       "      <td>0.000000</td>\n",
       "      <td>7.910400</td>\n",
       "    </tr>\n",
       "    <tr>\n",
       "      <th>50%</th>\n",
       "      <td>446.000000</td>\n",
       "      <td>0.000000</td>\n",
       "      <td>3.000000</td>\n",
       "      <td>28.000000</td>\n",
       "      <td>0.000000</td>\n",
       "      <td>0.000000</td>\n",
       "      <td>14.454200</td>\n",
       "    </tr>\n",
       "    <tr>\n",
       "      <th>75%</th>\n",
       "      <td>668.500000</td>\n",
       "      <td>1.000000</td>\n",
       "      <td>3.000000</td>\n",
       "      <td>38.000000</td>\n",
       "      <td>1.000000</td>\n",
       "      <td>0.000000</td>\n",
       "      <td>31.000000</td>\n",
       "    </tr>\n",
       "    <tr>\n",
       "      <th>max</th>\n",
       "      <td>891.000000</td>\n",
       "      <td>1.000000</td>\n",
       "      <td>3.000000</td>\n",
       "      <td>80.000000</td>\n",
       "      <td>8.000000</td>\n",
       "      <td>6.000000</td>\n",
       "      <td>512.329200</td>\n",
       "    </tr>\n",
       "  </tbody>\n",
       "</table>\n",
       "</div>"
      ],
      "text/plain": [
       "       PassengerId    Survived      Pclass         Age       SibSp  \\\n",
       "count   891.000000  891.000000  891.000000  714.000000  891.000000   \n",
       "mean    446.000000    0.383838    2.308642   29.699118    0.523008   \n",
       "std     257.353842    0.486592    0.836071   14.526497    1.102743   \n",
       "min       1.000000    0.000000    1.000000    0.420000    0.000000   \n",
       "25%     223.500000    0.000000    2.000000   20.125000    0.000000   \n",
       "50%     446.000000    0.000000    3.000000   28.000000    0.000000   \n",
       "75%     668.500000    1.000000    3.000000   38.000000    1.000000   \n",
       "max     891.000000    1.000000    3.000000   80.000000    8.000000   \n",
       "\n",
       "            Parch        Fare  \n",
       "count  891.000000  891.000000  \n",
       "mean     0.381594   32.204208  \n",
       "std      0.806057   49.693429  \n",
       "min      0.000000    0.000000  \n",
       "25%      0.000000    7.910400  \n",
       "50%      0.000000   14.454200  \n",
       "75%      0.000000   31.000000  \n",
       "max      6.000000  512.329200  "
      ]
     },
     "execution_count": 7,
     "metadata": {},
     "output_type": "execute_result"
    }
   ],
   "source": [
    "titanic.describe()"
   ]
  },
  {
   "cell_type": "markdown",
   "metadata": {},
   "source": [
    "<font color=red size=4>NOTE: varying ranges (esp. |FARE|)</font>"
   ]
  },
  {
   "cell_type": "code",
   "execution_count": 8,
   "metadata": {},
   "outputs": [
    {
     "name": "stdout",
     "output_type": "stream",
     "text": [
      "Saving figure attribute_histogram_plots\n"
     ]
    },
    {
     "data": {
      "image/png": "[encoded data removed]",
      "text/plain": [
       "<Figure size 1440x1080 with 9 Axes>"
      ]
     },
     "metadata": {
      "needs_background": "light"
     },
     "output_type": "display_data"
    }
   ],
   "source": [
    "%matplotlib inline\n",
    "import matplotlib.pyplot as plt\n",
    "titanic.hist(bins=50, figsize=(20,15))\n",
    "save_fig(\"attribute_histogram_plots\")\n",
    "plt.show()"
   ]
  },
  {
   "cell_type": "markdown",
   "metadata": {},
   "source": [
    "**Try to turn Cabin into useable data, by binarizing variables according to null/not-null**"
   ]
  },
  {
   "cell_type": "code",
   "execution_count": 9,
   "metadata": {},
   "outputs": [],
   "source": [
    "from sklearn.base import BaseEstimator, TransformerMixin\n",
    "from sklearn.pipeline import Pipeline\n",
    "\n",
    "class DataframeTransform():\n",
    "    def __init__(self, func, column=None):\n",
    "        self.function = func\n",
    "        self.column = column\n",
    "\n",
    "    def transform(self, df, **transform_params):\n",
    "        return self.function(df, self.column)\n",
    "\n",
    "    def fit(self, X, y=None, **fit_params):\n",
    "        return self"
   ]
  },
  {
   "cell_type": "code",
   "execution_count": 10,
   "metadata": {},
   "outputs": [
    {
     "data": {
      "text/html": [
       "<div>\n",
       "<style scoped>\n",
       "    .dataframe tbody tr th:only-of-type {\n",
       "        vertical-align: middle;\n",
       "    }\n",
       "\n",
       "    .dataframe tbody tr th {\n",
       "        vertical-align: top;\n",
       "    }\n",
       "\n",
       "    .dataframe thead th {\n",
       "        text-align: right;\n",
       "    }\n",
       "</style>\n",
       "<table border=\"1\" class=\"dataframe\">\n",
       "  <thead>\n",
       "    <tr style=\"text-align: right;\">\n",
       "      <th></th>\n",
       "      <th>PassengerId</th>\n",
       "      <th>Survived</th>\n",
       "      <th>Pclass</th>\n",
       "      <th>Name</th>\n",
       "      <th>Sex</th>\n",
       "      <th>Age</th>\n",
       "      <th>SibSp</th>\n",
       "      <th>Parch</th>\n",
       "      <th>Ticket</th>\n",
       "      <th>Fare</th>\n",
       "      <th>Cabin</th>\n",
       "      <th>Embarked</th>\n",
       "    </tr>\n",
       "  </thead>\n",
       "  <tbody>\n",
       "    <tr>\n",
       "      <th>0</th>\n",
       "      <td>1</td>\n",
       "      <td>0</td>\n",
       "      <td>3</td>\n",
       "      <td>Braund, Mr. Owen Harris</td>\n",
       "      <td>male</td>\n",
       "      <td>22.0</td>\n",
       "      <td>1</td>\n",
       "      <td>0</td>\n",
       "      <td>A/5 21171</td>\n",
       "      <td>7.2500</td>\n",
       "      <td>0</td>\n",
       "      <td>S</td>\n",
       "    </tr>\n",
       "    <tr>\n",
       "      <th>1</th>\n",
       "      <td>2</td>\n",
       "      <td>1</td>\n",
       "      <td>1</td>\n",
       "      <td>Cumings, Mrs. John Bradley (Florence Briggs Th...</td>\n",
       "      <td>female</td>\n",
       "      <td>38.0</td>\n",
       "      <td>1</td>\n",
       "      <td>0</td>\n",
       "      <td>PC 17599</td>\n",
       "      <td>71.2833</td>\n",
       "      <td>1</td>\n",
       "      <td>C</td>\n",
       "    </tr>\n",
       "    <tr>\n",
       "      <th>2</th>\n",
       "      <td>3</td>\n",
       "      <td>1</td>\n",
       "      <td>3</td>\n",
       "      <td>Heikkinen, Miss. Laina</td>\n",
       "      <td>female</td>\n",
       "      <td>26.0</td>\n",
       "      <td>0</td>\n",
       "      <td>0</td>\n",
       "      <td>STON/O2. 3101282</td>\n",
       "      <td>7.9250</td>\n",
       "      <td>0</td>\n",
       "      <td>S</td>\n",
       "    </tr>\n",
       "    <tr>\n",
       "      <th>3</th>\n",
       "      <td>4</td>\n",
       "      <td>1</td>\n",
       "      <td>1</td>\n",
       "      <td>Futrelle, Mrs. Jacques Heath (Lily May Peel)</td>\n",
       "      <td>female</td>\n",
       "      <td>35.0</td>\n",
       "      <td>1</td>\n",
       "      <td>0</td>\n",
       "      <td>113803</td>\n",
       "      <td>53.1000</td>\n",
       "      <td>1</td>\n",
       "      <td>S</td>\n",
       "    </tr>\n",
       "    <tr>\n",
       "      <th>4</th>\n",
       "      <td>5</td>\n",
       "      <td>0</td>\n",
       "      <td>3</td>\n",
       "      <td>Allen, Mr. William Henry</td>\n",
       "      <td>male</td>\n",
       "      <td>35.0</td>\n",
       "      <td>0</td>\n",
       "      <td>0</td>\n",
       "      <td>373450</td>\n",
       "      <td>8.0500</td>\n",
       "      <td>0</td>\n",
       "      <td>S</td>\n",
       "    </tr>\n",
       "    <tr>\n",
       "      <th>...</th>\n",
       "      <td>...</td>\n",
       "      <td>...</td>\n",
       "      <td>...</td>\n",
       "      <td>...</td>\n",
       "      <td>...</td>\n",
       "      <td>...</td>\n",
       "      <td>...</td>\n",
       "      <td>...</td>\n",
       "      <td>...</td>\n",
       "      <td>...</td>\n",
       "      <td>...</td>\n",
       "      <td>...</td>\n",
       "    </tr>\n",
       "    <tr>\n",
       "      <th>886</th>\n",
       "      <td>887</td>\n",
       "      <td>0</td>\n",
       "      <td>2</td>\n",
       "      <td>Montvila, Rev. Juozas</td>\n",
       "      <td>male</td>\n",
       "      <td>27.0</td>\n",
       "      <td>0</td>\n",
       "      <td>0</td>\n",
       "      <td>211536</td>\n",
       "      <td>13.0000</td>\n",
       "      <td>0</td>\n",
       "      <td>S</td>\n",
       "    </tr>\n",
       "    <tr>\n",
       "      <th>887</th>\n",
       "      <td>888</td>\n",
       "      <td>1</td>\n",
       "      <td>1</td>\n",
       "      <td>Graham, Miss. Margaret Edith</td>\n",
       "      <td>female</td>\n",
       "      <td>19.0</td>\n",
       "      <td>0</td>\n",
       "      <td>0</td>\n",
       "      <td>112053</td>\n",
       "      <td>30.0000</td>\n",
       "      <td>1</td>\n",
       "      <td>S</td>\n",
       "    </tr>\n",
       "    <tr>\n",
       "      <th>888</th>\n",
       "      <td>889</td>\n",
       "      <td>0</td>\n",
       "      <td>3</td>\n",
       "      <td>Johnston, Miss. Catherine Helen \"Carrie\"</td>\n",
       "      <td>female</td>\n",
       "      <td>NaN</td>\n",
       "      <td>1</td>\n",
       "      <td>2</td>\n",
       "      <td>W./C. 6607</td>\n",
       "      <td>23.4500</td>\n",
       "      <td>0</td>\n",
       "      <td>S</td>\n",
       "    </tr>\n",
       "    <tr>\n",
       "      <th>889</th>\n",
       "      <td>890</td>\n",
       "      <td>1</td>\n",
       "      <td>1</td>\n",
       "      <td>Behr, Mr. Karl Howell</td>\n",
       "      <td>male</td>\n",
       "      <td>26.0</td>\n",
       "      <td>0</td>\n",
       "      <td>0</td>\n",
       "      <td>111369</td>\n",
       "      <td>30.0000</td>\n",
       "      <td>1</td>\n",
       "      <td>C</td>\n",
       "    </tr>\n",
       "    <tr>\n",
       "      <th>890</th>\n",
       "      <td>891</td>\n",
       "      <td>0</td>\n",
       "      <td>3</td>\n",
       "      <td>Dooley, Mr. Patrick</td>\n",
       "      <td>male</td>\n",
       "      <td>32.0</td>\n",
       "      <td>0</td>\n",
       "      <td>0</td>\n",
       "      <td>370376</td>\n",
       "      <td>7.7500</td>\n",
       "      <td>0</td>\n",
       "      <td>Q</td>\n",
       "    </tr>\n",
       "  </tbody>\n",
       "</table>\n",
       "<p>891 rows × 12 columns</p>\n",
       "</div>"
      ],
      "text/plain": [
       "     PassengerId  Survived  Pclass  \\\n",
       "0              1         0       3   \n",
       "1              2         1       1   \n",
       "2              3         1       3   \n",
       "3              4         1       1   \n",
       "4              5         0       3   \n",
       "..           ...       ...     ...   \n",
       "886          887         0       2   \n",
       "887          888         1       1   \n",
       "888          889         0       3   \n",
       "889          890         1       1   \n",
       "890          891         0       3   \n",
       "\n",
       "                                                  Name     Sex   Age  SibSp  \\\n",
       "0                              Braund, Mr. Owen Harris    male  22.0      1   \n",
       "1    Cumings, Mrs. John Bradley (Florence Briggs Th...  female  38.0      1   \n",
       "2                               Heikkinen, Miss. Laina  female  26.0      0   \n",
       "3         Futrelle, Mrs. Jacques Heath (Lily May Peel)  female  35.0      1   \n",
       "4                             Allen, Mr. William Henry    male  35.0      0   \n",
       "..                                                 ...     ...   ...    ...   \n",
       "886                              Montvila, Rev. Juozas    male  27.0      0   \n",
       "887                       Graham, Miss. Margaret Edith  female  19.0      0   \n",
       "888           Johnston, Miss. Catherine Helen \"Carrie\"  female   NaN      1   \n",
       "889                              Behr, Mr. Karl Howell    male  26.0      0   \n",
       "890                                Dooley, Mr. Patrick    male  32.0      0   \n",
       "\n",
       "     Parch            Ticket     Fare  Cabin Embarked  \n",
       "0        0         A/5 21171   7.2500      0        S  \n",
       "1        0          PC 17599  71.2833      1        C  \n",
       "2        0  STON/O2. 3101282   7.9250      0        S  \n",
       "3        0            113803  53.1000      1        S  \n",
       "4        0            373450   8.0500      0        S  \n",
       "..     ...               ...      ...    ...      ...  \n",
       "886      0            211536  13.0000      0        S  \n",
       "887      0            112053  30.0000      1        S  \n",
       "888      2        W./C. 6607  23.4500      0        S  \n",
       "889      0            111369  30.0000      1        C  \n",
       "890      0            370376   7.7500      0        Q  \n",
       "\n",
       "[891 rows x 12 columns]"
      ]
     },
     "execution_count": 10,
     "metadata": {},
     "output_type": "execute_result"
    }
   ],
   "source": [
    "def binarize(input_df, column):\n",
    "    input_df[column] = input_df[column].notna()\n",
    "    return input_df\n",
    "\n",
    "def bool_to_int(input_df, column): \n",
    "    input_df[column] = input_df[column].map(lambda b: int(b))\n",
    "    return input_df\n",
    "\n",
    "df_pipeline = Pipeline([\n",
    "    (\"cabin_binarizer\", DataframeTransform(binarize, \"Cabin\")),\n",
    "    (\"cabin_to_int\", DataframeTransform(bool_to_int, \"Cabin\")),\n",
    "])\n",
    "\n",
    "processed_titanic = titanic.copy()\n",
    "df_pipeline.fit_transform(processed_titanic)"
   ]
  },
  {
   "cell_type": "code",
   "execution_count": 11,
   "metadata": {},
   "outputs": [
    {
     "data": {
      "text/html": [
       "<div>\n",
       "<style scoped>\n",
       "    .dataframe tbody tr th:only-of-type {\n",
       "        vertical-align: middle;\n",
       "    }\n",
       "\n",
       "    .dataframe tbody tr th {\n",
       "        vertical-align: top;\n",
       "    }\n",
       "\n",
       "    .dataframe thead th {\n",
       "        text-align: right;\n",
       "    }\n",
       "</style>\n",
       "<table border=\"1\" class=\"dataframe\">\n",
       "  <thead>\n",
       "    <tr style=\"text-align: right;\">\n",
       "      <th></th>\n",
       "      <th>PassengerId</th>\n",
       "      <th>Survived</th>\n",
       "      <th>Pclass</th>\n",
       "      <th>Age</th>\n",
       "      <th>SibSp</th>\n",
       "      <th>Parch</th>\n",
       "      <th>Fare</th>\n",
       "      <th>Cabin</th>\n",
       "    </tr>\n",
       "  </thead>\n",
       "  <tbody>\n",
       "    <tr>\n",
       "      <th>count</th>\n",
       "      <td>891.000000</td>\n",
       "      <td>891.000000</td>\n",
       "      <td>891.000000</td>\n",
       "      <td>714.000000</td>\n",
       "      <td>891.000000</td>\n",
       "      <td>891.000000</td>\n",
       "      <td>891.000000</td>\n",
       "      <td>891.000000</td>\n",
       "    </tr>\n",
       "    <tr>\n",
       "      <th>mean</th>\n",
       "      <td>446.000000</td>\n",
       "      <td>0.383838</td>\n",
       "      <td>2.308642</td>\n",
       "      <td>29.699118</td>\n",
       "      <td>0.523008</td>\n",
       "      <td>0.381594</td>\n",
       "      <td>32.204208</td>\n",
       "      <td>0.228956</td>\n",
       "    </tr>\n",
       "    <tr>\n",
       "      <th>std</th>\n",
       "      <td>257.353842</td>\n",
       "      <td>0.486592</td>\n",
       "      <td>0.836071</td>\n",
       "      <td>14.526497</td>\n",
       "      <td>1.102743</td>\n",
       "      <td>0.806057</td>\n",
       "      <td>49.693429</td>\n",
       "      <td>0.420397</td>\n",
       "    </tr>\n",
       "    <tr>\n",
       "      <th>min</th>\n",
       "      <td>1.000000</td>\n",
       "      <td>0.000000</td>\n",
       "      <td>1.000000</td>\n",
       "      <td>0.420000</td>\n",
       "      <td>0.000000</td>\n",
       "      <td>0.000000</td>\n",
       "      <td>0.000000</td>\n",
       "      <td>0.000000</td>\n",
       "    </tr>\n",
       "    <tr>\n",
       "      <th>25%</th>\n",
       "      <td>223.500000</td>\n",
       "      <td>0.000000</td>\n",
       "      <td>2.000000</td>\n",
       "      <td>20.125000</td>\n",
       "      <td>0.000000</td>\n",
       "      <td>0.000000</td>\n",
       "      <td>7.910400</td>\n",
       "      <td>0.000000</td>\n",
       "    </tr>\n",
       "    <tr>\n",
       "      <th>50%</th>\n",
       "      <td>446.000000</td>\n",
       "      <td>0.000000</td>\n",
       "      <td>3.000000</td>\n",
       "      <td>28.000000</td>\n",
       "      <td>0.000000</td>\n",
       "      <td>0.000000</td>\n",
       "      <td>14.454200</td>\n",
       "      <td>0.000000</td>\n",
       "    </tr>\n",
       "    <tr>\n",
       "      <th>75%</th>\n",
       "      <td>668.500000</td>\n",
       "      <td>1.000000</td>\n",
       "      <td>3.000000</td>\n",
       "      <td>38.000000</td>\n",
       "      <td>1.000000</td>\n",
       "      <td>0.000000</td>\n",
       "      <td>31.000000</td>\n",
       "      <td>0.000000</td>\n",
       "    </tr>\n",
       "    <tr>\n",
       "      <th>max</th>\n",
       "      <td>891.000000</td>\n",
       "      <td>1.000000</td>\n",
       "      <td>3.000000</td>\n",
       "      <td>80.000000</td>\n",
       "      <td>8.000000</td>\n",
       "      <td>6.000000</td>\n",
       "      <td>512.329200</td>\n",
       "      <td>1.000000</td>\n",
       "    </tr>\n",
       "  </tbody>\n",
       "</table>\n",
       "</div>"
      ],
      "text/plain": [
       "       PassengerId    Survived      Pclass         Age       SibSp  \\\n",
       "count   891.000000  891.000000  891.000000  714.000000  891.000000   \n",
       "mean    446.000000    0.383838    2.308642   29.699118    0.523008   \n",
       "std     257.353842    0.486592    0.836071   14.526497    1.102743   \n",
       "min       1.000000    0.000000    1.000000    0.420000    0.000000   \n",
       "25%     223.500000    0.000000    2.000000   20.125000    0.000000   \n",
       "50%     446.000000    0.000000    3.000000   28.000000    0.000000   \n",
       "75%     668.500000    1.000000    3.000000   38.000000    1.000000   \n",
       "max     891.000000    1.000000    3.000000   80.000000    8.000000   \n",
       "\n",
       "            Parch        Fare       Cabin  \n",
       "count  891.000000  891.000000  891.000000  \n",
       "mean     0.381594   32.204208    0.228956  \n",
       "std      0.806057   49.693429    0.420397  \n",
       "min      0.000000    0.000000    0.000000  \n",
       "25%      0.000000    7.910400    0.000000  \n",
       "50%      0.000000   14.454200    0.000000  \n",
       "75%      0.000000   31.000000    0.000000  \n",
       "max      6.000000  512.329200    1.000000  "
      ]
     },
     "execution_count": 11,
     "metadata": {},
     "output_type": "execute_result"
    }
   ],
   "source": [
    "processed_titanic.describe()"
   ]
  },
  {
   "cell_type": "markdown",
   "metadata": {},
   "source": [
    "<font color=red size=4>NOTE: long-tailed distributions |Age|Fare|Parch|SibSp|Cabin </font>"
   ]
  },
  {
   "cell_type": "code",
   "execution_count": 12,
   "metadata": {},
   "outputs": [],
   "source": [
    "corr_matrix = processed_titanic.corr()"
   ]
  },
  {
   "cell_type": "code",
   "execution_count": 13,
   "metadata": {},
   "outputs": [
    {
     "data": {
      "text/plain": [
       "Survived       1.000000\n",
       "Cabin          0.316912\n",
       "Fare           0.257307\n",
       "Parch          0.081629\n",
       "PassengerId   -0.005007\n",
       "SibSp         -0.035322\n",
       "Age           -0.077221\n",
       "Pclass        -0.338481\n",
       "Name: Survived, dtype: float64"
      ]
     },
     "execution_count": 13,
     "metadata": {},
     "output_type": "execute_result"
    }
   ],
   "source": [
    "corr_matrix[\"Survived\"].sort_values(ascending=False)"
   ]
  },
  {
   "cell_type": "markdown",
   "metadata": {},
   "source": [
    "**Is Cabin a useful feature? How correlated is it with Pclass?**"
   ]
  },
  {
   "cell_type": "code",
   "execution_count": 14,
   "metadata": {},
   "outputs": [
    {
     "data": {
      "text/plain": [
       "Pclass         1.000000\n",
       "SibSp          0.083081\n",
       "Parch          0.018443\n",
       "PassengerId   -0.035144\n",
       "Survived      -0.338481\n",
       "Age           -0.369226\n",
       "Fare          -0.549500\n",
       "Cabin         -0.725541\n",
       "Name: Pclass, dtype: float64"
      ]
     },
     "execution_count": 14,
     "metadata": {},
     "output_type": "execute_result"
    }
   ],
   "source": [
    "corr_matrix[\"Pclass\"].sort_values(ascending=False)"
   ]
  },
  {
   "cell_type": "markdown",
   "metadata": {},
   "source": [
    "Fare and Cabin highly correlated with Pclass. <br>\n",
    "<font color=green size=4> ※ May be helpful to combine Pclass&Cabin&Fare somehow </font>"
   ]
  },
  {
   "cell_type": "code",
   "execution_count": 15,
   "metadata": {},
   "outputs": [
    {
     "name": "stdout",
     "output_type": "stream",
     "text": [
      "Saving figure scatter_matrix_plot\n"
     ]
    },
    {
     "data": {
      "image/png": "[encoded data removed]",
      "text/plain": [
       "<Figure size 864x576 with 36 Axes>"
      ]
     },
     "metadata": {
      "needs_background": "light"
     },
     "output_type": "display_data"
    }
   ],
   "source": [
    "from pandas.plotting import scatter_matrix\n",
    "\n",
    "attributes = [\"Survived\", \"Fare\", \"Parch\", \"Age\", \"Pclass\", \"Cabin\"]\n",
    "scatter_matrix(processed_titanic[attributes], figsize=(12, 8))\n",
    "save_fig(\"scatter_matrix_plot\")"
   ]
  },
  {
   "cell_type": "code",
   "execution_count": 16,
   "metadata": {},
   "outputs": [
    {
     "name": "stdout",
     "output_type": "stream",
     "text": [
      "Saving figure fare_vs_survived\n"
     ]
    },
    {
     "data": {
      "image/png": "[encoded data removed]",
      "text/plain": [
       "<Figure size 432x288 with 1 Axes>"
      ]
     },
     "metadata": {
      "needs_background": "light"
     },
     "output_type": "display_data"
    }
   ],
   "source": [
    "processed_titanic.plot(kind=\"scatter\", x=\"Survived\", y=\"Fare\", alpha=0.05)\n",
    "plt.axis([-0.2, 1.2, 0, 600])\n",
    "save_fig(\"fare_vs_survived\")"
   ]
  },
  {
   "cell_type": "code",
   "execution_count": 17,
   "metadata": {},
   "outputs": [
    {
     "name": "stdout",
     "output_type": "stream",
     "text": [
      "Saving figure age_vs_survived\n"
     ]
    },
    {
     "data": {
      "image/png": "[encoded data removed]",
      "text/plain": [
       "<Figure size 432x288 with 1 Axes>"
      ]
     },
     "metadata": {
      "needs_background": "light"
     },
     "output_type": "display_data"
    }
   ],
   "source": [
    "processed_titanic.plot(kind=\"scatter\", x=\"Survived\", y=\"Age\", alpha=0.05)\n",
    "plt.axis([-0.2, 1.2, 0, 100])\n",
    "save_fig(\"age_vs_survived\")"
   ]
  },
  {
   "cell_type": "code",
   "execution_count": 18,
   "metadata": {},
   "outputs": [
    {
     "name": "stdout",
     "output_type": "stream",
     "text": [
      "Saving figure cabin_vs_pclass\n"
     ]
    },
    {
     "data": {
      "image/png": "[encoded data removed]",
      "text/plain": [
       "<Figure size 432x288 with 1 Axes>"
      ]
     },
     "metadata": {
      "needs_background": "light"
     },
     "output_type": "display_data"
    }
   ],
   "source": [
    "processed_titanic.plot(kind=\"scatter\", x=\"Cabin\", y=\"Pclass\", alpha=0.05)\n",
    "plt.axis([-0.2, 1.2, 0, 5])\n",
    "save_fig(\"cabin_vs_pclass\")"
   ]
  },
  {
   "cell_type": "markdown",
   "metadata": {},
   "source": [
    "# Prepare the data for ML algorithms"
   ]
  },
  {
   "cell_type": "code",
   "execution_count": 19,
   "metadata": {},
   "outputs": [],
   "source": [
    "titanic_features = titanic.drop(\"Survived\", axis=1)\n",
    "titanic_labels = titanic[\"Survived\"].copy()"
   ]
  },
  {
   "cell_type": "markdown",
   "metadata": {},
   "source": [
    "## Process df\n",
    "<font color=blue size=4>ACTION: drop |Name| because the name can't possibly be directly relevant. (Though the name might be an indication of class or other potentially relevant features, so there may be some value in processing this feature later).</font>\n",
    "<br><br>\n",
    "<font color=blue size=4>ACTION: drop |Ticket| because any relevant data from this should be contained in other features, such as Pclass and fare.</font>\n",
    "<br><br>\n",
    "<font color=blue size=4>ACTION: binarize |Cabin| (Null/NotNull), as the simplest way to capture any patterns. </font>\n",
    "<br><br>\n",
    "<font color=green size=3>NOTE: could try categorizing |Cabin| later, based on first letter or range of following numbers, but this would require some research into the Titanic itself to properly understand how to process </font>"
   ]
  },
  {
   "cell_type": "code",
   "execution_count": 20,
   "metadata": {},
   "outputs": [
    {
     "name": "stdout",
     "output_type": "stream",
     "text": [
      "<class 'pandas.core.frame.DataFrame'>\n",
      "RangeIndex: 891 entries, 0 to 890\n",
      "Data columns (total 9 columns):\n",
      " #   Column       Non-Null Count  Dtype  \n",
      "---  ------       --------------  -----  \n",
      " 0   PassengerId  891 non-null    int64  \n",
      " 1   Pclass       891 non-null    int64  \n",
      " 2   Sex          891 non-null    object \n",
      " 3   Age          714 non-null    float64\n",
      " 4   SibSp        891 non-null    int64  \n",
      " 5   Parch        891 non-null    int64  \n",
      " 6   Fare         891 non-null    float64\n",
      " 7   Cabin        891 non-null    int64  \n",
      " 8   Embarked     889 non-null    object \n",
      "dtypes: float64(2), int64(5), object(2)\n",
      "memory usage: 62.8+ KB\n"
     ]
    }
   ],
   "source": [
    "drop_features = [\"Name\", \"Ticket\"]\n",
    "\n",
    "def features_drop(df, column=None):\n",
    "    return df.drop(drop_features, axis=1)\n",
    "\n",
    "df_pipeline = Pipeline([\n",
    "    (\"prune_features\",DataframeTransform(features_drop)),\n",
    "    (\"cabin_binarizer\", DataframeTransform(binarize, \"Cabin\")),\n",
    "    (\"cabin_to_int\", DataframeTransform(bool_to_int, \"Cabin\")),\n",
    "])\n",
    "\n",
    "titanic_features_preprocessed = df_pipeline.fit_transform(titanic_features)\n",
    "titanic_features_preprocessed.info()"
   ]
  },
  {
   "cell_type": "markdown",
   "metadata": {},
   "source": [
    "## Transformation Pipelines \n",
    "\n",
    "### Numerical values:\n",
    "-  remove attrbs\n",
    "-  impute median\n",
    "-  scale values\n",
    "   \n",
    "### Categorical values:\n",
    "-  impute most_frequent\n",
    "-  OneHotEncoding\n"
   ]
  },
  {
   "cell_type": "code",
   "execution_count": 21,
   "metadata": {},
   "outputs": [
    {
     "data": {
      "text/plain": [
       "array([[1, 3, 'male', ..., 7.25, 0, 'S'],\n",
       "       [2, 1, 'female', ..., 71.2833, 1, 'C'],\n",
       "       [3, 3, 'female', ..., 7.925, 0, 'S'],\n",
       "       ...,\n",
       "       [889, 3, 'female', ..., 23.45, 0, 'S'],\n",
       "       [890, 1, 'male', ..., 30.0, 1, 'C'],\n",
       "       [891, 3, 'male', ..., 7.75, 0, 'Q']], dtype=object)"
      ]
     },
     "execution_count": 21,
     "metadata": {},
     "output_type": "execute_result"
    }
   ],
   "source": [
    "titanic_features_preprocessed.values"
   ]
  },
  {
   "cell_type": "code",
   "execution_count": 22,
   "metadata": {},
   "outputs": [
    {
     "name": "stdout",
     "output_type": "stream",
     "text": [
      "<class 'pandas.core.frame.DataFrame'>\n",
      "RangeIndex: 891 entries, 0 to 890\n",
      "Data columns (total 9 columns):\n",
      " #   Column       Non-Null Count  Dtype  \n",
      "---  ------       --------------  -----  \n",
      " 0   PassengerId  891 non-null    int64  \n",
      " 1   Pclass       891 non-null    int64  \n",
      " 2   Sex          891 non-null    object \n",
      " 3   Age          714 non-null    float64\n",
      " 4   SibSp        891 non-null    int64  \n",
      " 5   Parch        891 non-null    int64  \n",
      " 6   Fare         891 non-null    float64\n",
      " 7   Cabin        891 non-null    int64  \n",
      " 8   Embarked     889 non-null    object \n",
      "dtypes: float64(2), int64(5), object(2)\n",
      "memory usage: 62.8+ KB\n"
     ]
    }
   ],
   "source": [
    "titanic_features_preprocessed.info()"
   ]
  },
  {
   "cell_type": "code",
   "execution_count": 23,
   "metadata": {},
   "outputs": [],
   "source": [
    "from sklearn.preprocessing import StandardScaler\n",
    "from sklearn.impute import SimpleImputer\n",
    "\n",
    "num_pipeline = Pipeline([\n",
    "    (\"imputer\", SimpleImputer(strategy=\"median\")),\n",
    "    (\"stdScaler\", StandardScaler()),\n",
    "])"
   ]
  },
  {
   "cell_type": "code",
   "execution_count": 24,
   "metadata": {},
   "outputs": [
    {
     "data": {
      "text/plain": [
       "'S'"
      ]
     },
     "execution_count": 24,
     "metadata": {},
     "output_type": "execute_result"
    }
   ],
   "source": [
    "most_common_embarked = titanic_features_preprocessed[\"Embarked\"].value_counts().idxmax()\n",
    "most_common_embarked"
   ]
  },
  {
   "cell_type": "code",
   "execution_count": 25,
   "metadata": {},
   "outputs": [],
   "source": [
    "titanic_features_preprocessed[\"Embarked\"].fillna(most_common_embarked, inplace=True)"
   ]
  },
  {
   "cell_type": "code",
   "execution_count": 26,
   "metadata": {},
   "outputs": [],
   "source": [
    "from sklearn.preprocessing import OrdinalEncoder\n",
    "from sklearn.preprocessing import OneHotEncoder\n",
    "\n",
    "\n",
    "cat_pipeline = Pipeline([\n",
    "    (\"encode_ordinal\", OrdinalEncoder()),\n",
    "    (\"imputer\", SimpleImputer(strategy=\"median\")),\n",
    "    (\"one_hot_encoder\", OneHotEncoder()),\n",
    "])"
   ]
  },
  {
   "cell_type": "code",
   "execution_count": 27,
   "metadata": {},
   "outputs": [
    {
     "name": "stdout",
     "output_type": "stream",
     "text": [
      "<class 'pandas.core.frame.DataFrame'>\n",
      "RangeIndex: 891 entries, 0 to 890\n",
      "Data columns (total 9 columns):\n",
      " #   Column       Non-Null Count  Dtype  \n",
      "---  ------       --------------  -----  \n",
      " 0   PassengerId  891 non-null    int64  \n",
      " 1   Pclass       891 non-null    int64  \n",
      " 2   Sex          891 non-null    object \n",
      " 3   Age          714 non-null    float64\n",
      " 4   SibSp        891 non-null    int64  \n",
      " 5   Parch        891 non-null    int64  \n",
      " 6   Fare         891 non-null    float64\n",
      " 7   Cabin        891 non-null    int64  \n",
      " 8   Embarked     891 non-null    object \n",
      "dtypes: float64(2), int64(5), object(2)\n",
      "memory usage: 62.8+ KB\n"
     ]
    }
   ],
   "source": [
    "titanic_features_preprocessed.info()"
   ]
  },
  {
   "cell_type": "code",
   "execution_count": 28,
   "metadata": {},
   "outputs": [
    {
     "data": {
      "text/plain": [
       "['PassengerId', 'Age', 'SibSp', 'Parch', 'Fare', 'Cabin']"
      ]
     },
     "execution_count": 28,
     "metadata": {},
     "output_type": "execute_result"
    }
   ],
   "source": [
    "cat_features = [\"Sex\", \"Embarked\", \"Pclass\"]\n",
    "num_features = list(titanic_features_preprocessed.select_dtypes(include=[np.number]))\n",
    "num_features.remove(\"Pclass\")\n",
    "num_features"
   ]
  },
  {
   "cell_type": "code",
   "execution_count": 29,
   "metadata": {},
   "outputs": [
    {
     "data": {
      "text/plain": [
       "array([[-1.73010796, -0.56573646,  0.43279337, ...,  0.        ,\n",
       "         0.        ,  1.        ],\n",
       "       [-1.72622007,  0.66386103,  0.43279337, ...,  1.        ,\n",
       "         0.        ,  0.        ],\n",
       "       [-1.72233219, -0.25833709, -0.4745452 , ...,  0.        ,\n",
       "         0.        ,  1.        ],\n",
       "       ...,\n",
       "       [ 1.72233219, -0.1046374 ,  0.43279337, ...,  0.        ,\n",
       "         0.        ,  1.        ],\n",
       "       [ 1.72622007, -0.25833709, -0.4745452 , ...,  1.        ,\n",
       "         0.        ,  0.        ],\n",
       "       [ 1.73010796,  0.20276197, -0.4745452 , ...,  0.        ,\n",
       "         0.        ,  1.        ]])"
      ]
     },
     "execution_count": 29,
     "metadata": {},
     "output_type": "execute_result"
    }
   ],
   "source": [
    "from sklearn.compose import ColumnTransformer\n",
    "\n",
    "full_pipeline = ColumnTransformer([\n",
    "    (\"num\", num_pipeline, num_features),\n",
    "    (\"cat\", cat_pipeline, cat_features),\n",
    "])\n",
    "\n",
    "titanic_prepared = full_pipeline.fit_transform(titanic_features_preprocessed)\n",
    "titanic_prepared"
   ]
  },
  {
   "cell_type": "code",
   "execution_count": 30,
   "metadata": {},
   "outputs": [
    {
     "data": {
      "text/plain": [
       "(891, 14)"
      ]
     },
     "execution_count": 30,
     "metadata": {},
     "output_type": "execute_result"
    }
   ],
   "source": [
    "titanic_prepared.shape"
   ]
  },
  {
   "cell_type": "markdown",
   "metadata": {},
   "source": [
    "# Select and train a model "
   ]
  },
  {
   "cell_type": "markdown",
   "metadata": {},
   "source": [
    "### Evaluation and display functions "
   ]
  },
  {
   "cell_type": "code",
   "execution_count": 31,
   "metadata": {},
   "outputs": [],
   "source": [
    "# evaluate using cross validation\n",
    "from sklearn.model_selection import cross_val_score\n",
    "from sklearn import metrics\n",
    "\n",
    "def display_scores(scores):\n",
    "    print(\"Scores:\", scores)\n",
    "    print(\"Mean:\", scores.mean())\n",
    "    print(\"Standard deviation:\", scores.std())\n",
    "    \n",
    "def display_metrics(model):\n",
    "    predictions = pd.DataFrame(model.predict(titanic_prepared))\n",
    "    print(\"Accuracy:\", metrics.accuracy_score(titanic_labels, predictions))\n",
    "    print(\"\")\n",
    "    print(\"Confusion matrix:\")\n",
    "    print(metrics.confusion_matrix(titanic_labels, predictions))\n",
    "    print(\"\")\n",
    "    print(\"Classification report:\")\n",
    "    print(metrics.classification_report(titanic_labels, predictions))\n",
    "\n",
    "def display_cv_scores(model):\n",
    "    scores = cross_val_score(model, titanic_prepared, titanic_labels,scoring=\"accuracy\", cv=10)\n",
    "    display_scores(scores)"
   ]
  },
  {
   "cell_type": "markdown",
   "metadata": {},
   "source": [
    "## Logistic Regression"
   ]
  },
  {
   "cell_type": "markdown",
   "metadata": {},
   "source": [
    "### Assumptions:\n",
    "-  binary labels YES\n",
    "-  no outliers ~YES (may be violated by |Fare|Parch|)\n",
    "-  no multicollinearity among features (below 0.90 should be fine, so we're ok on this) YES\n",
    "\n",
    "### Conclusion: \n",
    "Probably quite a good model."
   ]
  },
  {
   "cell_type": "markdown",
   "metadata": {},
   "source": [
    "Confusion matrix:<br><br>\n",
    "TN FP<br>\n",
    "FN TP<br>"
   ]
  },
  {
   "cell_type": "code",
   "execution_count": 32,
   "metadata": {},
   "outputs": [
    {
     "data": {
      "text/plain": [
       "LogisticRegression(max_iter=1000, random_state=42, solver='saga')"
      ]
     },
     "execution_count": 32,
     "metadata": {},
     "output_type": "execute_result"
    }
   ],
   "source": [
    "from sklearn.linear_model import LogisticRegression\n",
    "\n",
    "log_reg = LogisticRegression(solver=\"saga\", max_iter=1000, random_state=42)\n",
    "log_reg.fit(titanic_prepared, titanic_labels)"
   ]
  },
  {
   "cell_type": "code",
   "execution_count": 33,
   "metadata": {},
   "outputs": [
    {
     "data": {
      "text/plain": [
       "0.8114478114478114"
      ]
     },
     "execution_count": 33,
     "metadata": {},
     "output_type": "execute_result"
    }
   ],
   "source": [
    "log_reg.score(titanic_prepared, titanic_labels)"
   ]
  },
  {
   "cell_type": "code",
   "execution_count": 34,
   "metadata": {},
   "outputs": [
    {
     "name": "stdout",
     "output_type": "stream",
     "text": [
      "Scores: [0.83333333 0.82022472 0.76404494 0.82022472 0.82022472 0.76404494\n",
      " 0.78651685 0.78651685 0.82022472 0.83146067]\n",
      "Mean: 0.804681647940075\n",
      "Standard deviation: 0.025430270332036584\n"
     ]
    }
   ],
   "source": [
    "display_cv_scores(log_reg)"
   ]
  },
  {
   "cell_type": "code",
   "execution_count": 35,
   "metadata": {},
   "outputs": [
    {
     "name": "stdout",
     "output_type": "stream",
     "text": [
      "Accuracy: 0.8114478114478114\n",
      "\n",
      "Confusion matrix:\n",
      "[[476  73]\n",
      " [ 95 247]]\n",
      "\n",
      "Classification report:\n",
      "              precision    recall  f1-score   support\n",
      "\n",
      "           0       0.83      0.87      0.85       549\n",
      "           1       0.77      0.72      0.75       342\n",
      "\n",
      "    accuracy                           0.81       891\n",
      "   macro avg       0.80      0.79      0.80       891\n",
      "weighted avg       0.81      0.81      0.81       891\n",
      "\n"
     ]
    }
   ],
   "source": [
    "display_metrics(log_reg)"
   ]
  },
  {
   "cell_type": "markdown",
   "metadata": {},
   "source": [
    "## Naive bayes (gaussian)"
   ]
  },
  {
   "cell_type": "markdown",
   "metadata": {},
   "source": [
    "### Assumptions\n",
    "\n",
    "- The features are independent from one another"
   ]
  },
  {
   "cell_type": "code",
   "execution_count": 36,
   "metadata": {},
   "outputs": [
    {
     "data": {
      "text/plain": [
       "GaussianNB()"
      ]
     },
     "execution_count": 36,
     "metadata": {},
     "output_type": "execute_result"
    }
   ],
   "source": [
    "from sklearn.naive_bayes import GaussianNB\n",
    "\n",
    "nb = GaussianNB()\n",
    "nb.fit(titanic_prepared, titanic_labels)"
   ]
  },
  {
   "cell_type": "code",
   "execution_count": 37,
   "metadata": {},
   "outputs": [
    {
     "data": {
      "text/plain": [
       "0.7755331088664422"
      ]
     },
     "execution_count": 37,
     "metadata": {},
     "output_type": "execute_result"
    }
   ],
   "source": [
    "nb.score(titanic_prepared, titanic_labels)"
   ]
  },
  {
   "cell_type": "code",
   "execution_count": 38,
   "metadata": {
    "scrolled": true
   },
   "outputs": [
    {
     "name": "stdout",
     "output_type": "stream",
     "text": [
      "Scores: [0.75555556 0.73033708 0.76404494 0.73033708 0.79775281 0.74157303\n",
      " 0.79775281 0.82022472 0.7752809  0.79775281]\n",
      "Mean: 0.7710611735330837\n",
      "Standard deviation: 0.030080386252688208\n"
     ]
    }
   ],
   "source": [
    "display_cv_scores(nb)"
   ]
  },
  {
   "cell_type": "code",
   "execution_count": 39,
   "metadata": {},
   "outputs": [
    {
     "name": "stdout",
     "output_type": "stream",
     "text": [
      "Accuracy: 0.7755331088664422\n",
      "\n",
      "Confusion matrix:\n",
      "[[420 129]\n",
      " [ 71 271]]\n",
      "\n",
      "Classification report:\n",
      "              precision    recall  f1-score   support\n",
      "\n",
      "           0       0.86      0.77      0.81       549\n",
      "           1       0.68      0.79      0.73       342\n",
      "\n",
      "    accuracy                           0.78       891\n",
      "   macro avg       0.77      0.78      0.77       891\n",
      "weighted avg       0.79      0.78      0.78       891\n",
      "\n"
     ]
    }
   ],
   "source": [
    "display_metrics(nb)"
   ]
  },
  {
   "cell_type": "markdown",
   "metadata": {},
   "source": [
    "## Decision Tree"
   ]
  },
  {
   "cell_type": "markdown",
   "metadata": {},
   "source": [
    "### Assumptions\n",
    "\n",
    "-  The data is not multicollinear. If the data contains collinearities, the decision tree will choose the best, greedily.\n",
    "-  They are not smooth, so can have problems with overfitting and prediction from unusual feature vectors, in particular.\n",
    "-  Assumed interactions between all features can make this inefficient, and ineffective with smaller amounts of loosely correlated data."
   ]
  },
  {
   "cell_type": "code",
   "execution_count": 40,
   "metadata": {},
   "outputs": [],
   "source": [
    "from sklearn import tree"
   ]
  },
  {
   "cell_type": "code",
   "execution_count": 41,
   "metadata": {},
   "outputs": [
    {
     "data": {
      "text/plain": [
       "DecisionTreeClassifier(max_depth=3)"
      ]
     },
     "execution_count": 41,
     "metadata": {},
     "output_type": "execute_result"
    }
   ],
   "source": [
    "tree_model = tree.DecisionTreeClassifier(max_depth=3)\n",
    "tree_model_fit = tree_model.fit(titanic_prepared, titanic_labels)\n",
    "tree_model_fit"
   ]
  },
  {
   "cell_type": "code",
   "execution_count": 42,
   "metadata": {},
   "outputs": [
    {
     "data": {
      "text/plain": [
       "0.8237934904601572"
      ]
     },
     "execution_count": 42,
     "metadata": {},
     "output_type": "execute_result"
    }
   ],
   "source": [
    "tree_model_fit.score(titanic_prepared, titanic_labels)"
   ]
  },
  {
   "cell_type": "code",
   "execution_count": 43,
   "metadata": {},
   "outputs": [
    {
     "name": "stdout",
     "output_type": "stream",
     "text": [
      "Scores: [0.82222222 0.83146067 0.76404494 0.85393258 0.82022472 0.79775281\n",
      " 0.78651685 0.78651685 0.85393258 0.83146067]\n",
      "Mean: 0.8148064918851435\n",
      "Standard deviation: 0.02858136826801664\n"
     ]
    }
   ],
   "source": [
    "display_cv_scores(tree_model)"
   ]
  },
  {
   "cell_type": "code",
   "execution_count": 44,
   "metadata": {},
   "outputs": [
    {
     "name": "stdout",
     "output_type": "stream",
     "text": [
      "Saving figure decision_tree_graph\n"
     ]
    },
    {
     "data": {
      "text/plain": [
       "<Figure size 432x288 with 0 Axes>"
      ]
     },
     "metadata": {},
     "output_type": "display_data"
    }
   ],
   "source": [
    "from pydotplus import graph_from_dot_data\n",
    "\n",
    "dot_data = tree.export_graphviz(tree_model, out_file=None,  \n",
    "                     feature_names=titanic_features_preprocessed.columns.tolist().extend([\"dummy\", \"dummy\", \"dummy\"]),\n",
    "                     class_names=['生', '死'],\n",
    "                     filled=True, rounded=True,  \n",
    "                     special_characters=True)  \n",
    "graph = graph_from_dot_data(dot_data)\n",
    "save_fig(\"decision_tree_graph\")"
   ]
  },
  {
   "cell_type": "code",
   "execution_count": 45,
   "metadata": {},
   "outputs": [
    {
     "name": "stdout",
     "output_type": "stream",
     "text": [
      "Accuracy: 0.8237934904601572\n",
      "\n",
      "Confusion matrix:\n",
      "[[488  61]\n",
      " [ 96 246]]\n",
      "\n",
      "Classification report:\n",
      "              precision    recall  f1-score   support\n",
      "\n",
      "           0       0.84      0.89      0.86       549\n",
      "           1       0.80      0.72      0.76       342\n",
      "\n",
      "    accuracy                           0.82       891\n",
      "   macro avg       0.82      0.80      0.81       891\n",
      "weighted avg       0.82      0.82      0.82       891\n",
      "\n"
     ]
    }
   ],
   "source": [
    "display_metrics(tree_model)"
   ]
  },
  {
   "cell_type": "markdown",
   "metadata": {},
   "source": [
    "## RandomForest"
   ]
  },
  {
   "cell_type": "code",
   "execution_count": 46,
   "metadata": {},
   "outputs": [
    {
     "data": {
      "text/plain": [
       "RandomForestClassifier(bootstrap=False, max_depth=5, random_state=42)"
      ]
     },
     "execution_count": 46,
     "metadata": {},
     "output_type": "execute_result"
    }
   ],
   "source": [
    "from sklearn.ensemble import RandomForestClassifier\n",
    "\n",
    "rf = RandomForestClassifier(random_state=42, n_estimators=100, max_depth=5, bootstrap=False)\n",
    "rf_model = rf.fit(titanic_prepared, titanic_labels)\n",
    "rf_model"
   ]
  },
  {
   "cell_type": "code",
   "execution_count": 47,
   "metadata": {},
   "outputs": [
    {
     "data": {
      "text/plain": [
       "0.8585858585858586"
      ]
     },
     "execution_count": 47,
     "metadata": {},
     "output_type": "execute_result"
    }
   ],
   "source": [
    "rf_model.score(titanic_prepared, titanic_labels)"
   ]
  },
  {
   "cell_type": "code",
   "execution_count": 48,
   "metadata": {},
   "outputs": [
    {
     "name": "stdout",
     "output_type": "stream",
     "text": [
      "Scores: [0.83333333 0.86516854 0.76404494 0.86516854 0.85393258 0.78651685\n",
      " 0.78651685 0.76404494 0.85393258 0.87640449]\n",
      "Mean: 0.8249063670411985\n",
      "Standard deviation: 0.042433399102880215\n"
     ]
    }
   ],
   "source": [
    "display_cv_scores(rf)"
   ]
  },
  {
   "cell_type": "code",
   "execution_count": 49,
   "metadata": {},
   "outputs": [
    {
     "name": "stdout",
     "output_type": "stream",
     "text": [
      "Accuracy: 0.8585858585858586\n",
      "\n",
      "Confusion matrix:\n",
      "[[511  38]\n",
      " [ 88 254]]\n",
      "\n",
      "Classification report:\n",
      "              precision    recall  f1-score   support\n",
      "\n",
      "           0       0.85      0.93      0.89       549\n",
      "           1       0.87      0.74      0.80       342\n",
      "\n",
      "    accuracy                           0.86       891\n",
      "   macro avg       0.86      0.84      0.85       891\n",
      "weighted avg       0.86      0.86      0.86       891\n",
      "\n"
     ]
    }
   ],
   "source": [
    "display_metrics(rf)"
   ]
  },
  {
   "cell_type": "markdown",
   "metadata": {},
   "source": [
    "## Support Vector Model"
   ]
  },
  {
   "cell_type": "code",
   "execution_count": 50,
   "metadata": {},
   "outputs": [],
   "source": [
    "from sklearn.svm import SVC"
   ]
  },
  {
   "cell_type": "markdown",
   "metadata": {},
   "source": [
    "### kernel=linear"
   ]
  },
  {
   "cell_type": "code",
   "execution_count": 51,
   "metadata": {},
   "outputs": [
    {
     "data": {
      "text/plain": [
       "SVC(kernel='linear')"
      ]
     },
     "execution_count": 51,
     "metadata": {},
     "output_type": "execute_result"
    }
   ],
   "source": [
    "svc_linear = SVC(kernel=\"linear\")\n",
    "svc_linear_model = svc_linear.fit(titanic_prepared, titanic_labels)\n",
    "svc_linear_model"
   ]
  },
  {
   "cell_type": "code",
   "execution_count": 52,
   "metadata": {},
   "outputs": [
    {
     "data": {
      "text/plain": [
       "0.7867564534231201"
      ]
     },
     "execution_count": 52,
     "metadata": {},
     "output_type": "execute_result"
    }
   ],
   "source": [
    "svc_linear_model.score(titanic_prepared, titanic_labels)"
   ]
  },
  {
   "cell_type": "code",
   "execution_count": 53,
   "metadata": {},
   "outputs": [
    {
     "name": "stdout",
     "output_type": "stream",
     "text": [
      "Scores: [0.81111111 0.78651685 0.76404494 0.84269663 0.79775281 0.7752809\n",
      " 0.76404494 0.74157303 0.80898876 0.76404494]\n",
      "Mean: 0.785605493133583\n",
      "Standard deviation: 0.02836393163253107\n"
     ]
    }
   ],
   "source": [
    "display_cv_scores(svc_linear)"
   ]
  },
  {
   "cell_type": "code",
   "execution_count": 54,
   "metadata": {},
   "outputs": [
    {
     "name": "stdout",
     "output_type": "stream",
     "text": [
      "Accuracy: 0.7867564534231201\n",
      "\n",
      "Confusion matrix:\n",
      "[[468  81]\n",
      " [109 233]]\n",
      "\n",
      "Classification report:\n",
      "              precision    recall  f1-score   support\n",
      "\n",
      "           0       0.81      0.85      0.83       549\n",
      "           1       0.74      0.68      0.71       342\n",
      "\n",
      "    accuracy                           0.79       891\n",
      "   macro avg       0.78      0.77      0.77       891\n",
      "weighted avg       0.78      0.79      0.78       891\n",
      "\n"
     ]
    }
   ],
   "source": [
    "display_metrics(svc_linear)"
   ]
  },
  {
   "cell_type": "markdown",
   "metadata": {},
   "source": [
    "### kernel=polynomial"
   ]
  },
  {
   "cell_type": "code",
   "execution_count": 55,
   "metadata": {},
   "outputs": [
    {
     "data": {
      "text/plain": [
       "SVC(kernel='poly')"
      ]
     },
     "execution_count": 55,
     "metadata": {},
     "output_type": "execute_result"
    }
   ],
   "source": [
    "svc_poly = SVC(kernel=\"poly\")\n",
    "svc_poly_model = svc_poly.fit(titanic_prepared, titanic_labels)\n",
    "svc_poly_model"
   ]
  },
  {
   "cell_type": "code",
   "execution_count": 56,
   "metadata": {},
   "outputs": [
    {
     "data": {
      "text/plain": [
       "0.8473625140291807"
      ]
     },
     "execution_count": 56,
     "metadata": {},
     "output_type": "execute_result"
    }
   ],
   "source": [
    "svc_poly_model.score(titanic_prepared, titanic_labels)"
   ]
  },
  {
   "cell_type": "code",
   "execution_count": 57,
   "metadata": {},
   "outputs": [
    {
     "name": "stdout",
     "output_type": "stream",
     "text": [
      "Scores: [0.77777778 0.80898876 0.74157303 0.83146067 0.84269663 0.78651685\n",
      " 0.82022472 0.76404494 0.88764045 0.85393258]\n",
      "Mean: 0.8114856429463172\n",
      "Standard deviation: 0.042373440071103954\n"
     ]
    }
   ],
   "source": [
    "display_cv_scores(svc_poly)"
   ]
  },
  {
   "cell_type": "code",
   "execution_count": 58,
   "metadata": {},
   "outputs": [
    {
     "name": "stdout",
     "output_type": "stream",
     "text": [
      "Accuracy: 0.8473625140291807\n",
      "\n",
      "Confusion matrix:\n",
      "[[497  52]\n",
      " [ 84 258]]\n",
      "\n",
      "Classification report:\n",
      "              precision    recall  f1-score   support\n",
      "\n",
      "           0       0.86      0.91      0.88       549\n",
      "           1       0.83      0.75      0.79       342\n",
      "\n",
      "    accuracy                           0.85       891\n",
      "   macro avg       0.84      0.83      0.84       891\n",
      "weighted avg       0.85      0.85      0.85       891\n",
      "\n"
     ]
    }
   ],
   "source": [
    "display_metrics(svc_poly)"
   ]
  },
  {
   "cell_type": "markdown",
   "metadata": {},
   "source": [
    "### kernel=rbf"
   ]
  },
  {
   "cell_type": "code",
   "execution_count": 59,
   "metadata": {},
   "outputs": [
    {
     "data": {
      "text/plain": [
       "SVC()"
      ]
     },
     "execution_count": 59,
     "metadata": {},
     "output_type": "execute_result"
    }
   ],
   "source": [
    "svc_rbf = SVC(kernel=\"rbf\")\n",
    "svc_rbf_model = svc_rbf.fit(titanic_prepared, titanic_labels)\n",
    "svc_rbf_model"
   ]
  },
  {
   "cell_type": "code",
   "execution_count": 60,
   "metadata": {},
   "outputs": [
    {
     "data": {
      "text/plain": [
       "0.8417508417508418"
      ]
     },
     "execution_count": 60,
     "metadata": {},
     "output_type": "execute_result"
    }
   ],
   "source": [
    "svc_rbf_model.score(titanic_prepared, titanic_labels)"
   ]
  },
  {
   "cell_type": "code",
   "execution_count": 61,
   "metadata": {},
   "outputs": [
    {
     "name": "stdout",
     "output_type": "stream",
     "text": [
      "Scores: [0.8        0.86516854 0.75280899 0.87640449 0.80898876 0.78651685\n",
      " 0.83146067 0.79775281 0.86516854 0.85393258]\n",
      "Mean: 0.823820224719101\n",
      "Standard deviation: 0.03879513490258261\n"
     ]
    }
   ],
   "source": [
    "display_cv_scores(svc_rbf)"
   ]
  },
  {
   "cell_type": "code",
   "execution_count": 62,
   "metadata": {},
   "outputs": [
    {
     "name": "stdout",
     "output_type": "stream",
     "text": [
      "Accuracy: 0.8417508417508418\n",
      "\n",
      "Confusion matrix:\n",
      "[[495  54]\n",
      " [ 87 255]]\n",
      "\n",
      "Classification report:\n",
      "              precision    recall  f1-score   support\n",
      "\n",
      "           0       0.85      0.90      0.88       549\n",
      "           1       0.83      0.75      0.78       342\n",
      "\n",
      "    accuracy                           0.84       891\n",
      "   macro avg       0.84      0.82      0.83       891\n",
      "weighted avg       0.84      0.84      0.84       891\n",
      "\n"
     ]
    }
   ],
   "source": [
    "display_metrics(svc_rbf)"
   ]
  },
  {
   "cell_type": "markdown",
   "metadata": {},
   "source": [
    "### kernel=sigmoid"
   ]
  },
  {
   "cell_type": "code",
   "execution_count": 63,
   "metadata": {},
   "outputs": [
    {
     "data": {
      "text/plain": [
       "SVC(kernel='sigmoid')"
      ]
     },
     "execution_count": 63,
     "metadata": {},
     "output_type": "execute_result"
    }
   ],
   "source": [
    "svc_sigmoid = SVC(kernel=\"sigmoid\")\n",
    "svc_sigmoid_model = svc_sigmoid.fit(titanic_prepared, titanic_labels)\n",
    "svc_sigmoid_model"
   ]
  },
  {
   "cell_type": "code",
   "execution_count": 64,
   "metadata": {},
   "outputs": [
    {
     "data": {
      "text/plain": [
       "0.6778900112233446"
      ]
     },
     "execution_count": 64,
     "metadata": {},
     "output_type": "execute_result"
    }
   ],
   "source": [
    "svc_sigmoid_model.score(titanic_prepared, titanic_labels)"
   ]
  },
  {
   "cell_type": "code",
   "execution_count": 65,
   "metadata": {},
   "outputs": [
    {
     "name": "stdout",
     "output_type": "stream",
     "text": [
      "Scores: [0.71111111 0.64044944 0.73033708 0.6741573  0.71910112 0.66292135\n",
      " 0.6741573  0.68539326 0.66292135 0.62921348]\n",
      "Mean: 0.6789762796504369\n",
      "Standard deviation: 0.03137575484089663\n"
     ]
    }
   ],
   "source": [
    "display_cv_scores(svc_sigmoid)"
   ]
  },
  {
   "cell_type": "code",
   "execution_count": 66,
   "metadata": {},
   "outputs": [
    {
     "name": "stdout",
     "output_type": "stream",
     "text": [
      "Accuracy: 0.6778900112233446\n",
      "\n",
      "Confusion matrix:\n",
      "[[407 142]\n",
      " [145 197]]\n",
      "\n",
      "Classification report:\n",
      "              precision    recall  f1-score   support\n",
      "\n",
      "           0       0.74      0.74      0.74       549\n",
      "           1       0.58      0.58      0.58       342\n",
      "\n",
      "    accuracy                           0.68       891\n",
      "   macro avg       0.66      0.66      0.66       891\n",
      "weighted avg       0.68      0.68      0.68       891\n",
      "\n"
     ]
    }
   ],
   "source": [
    "display_metrics(svc_sigmoid)"
   ]
  },
  {
   "cell_type": "markdown",
   "metadata": {},
   "source": [
    "# Fine-tune best model(s)"
   ]
  },
  {
   "cell_type": "markdown",
   "metadata": {},
   "source": [
    "## RandomForest"
   ]
  },
  {
   "cell_type": "code",
   "execution_count": 67,
   "metadata": {},
   "outputs": [
    {
     "name": "stdout",
     "output_type": "stream",
     "text": [
      "Fitting 10 folds for each of 200 candidates, totalling 2000 fits\n"
     ]
    },
    {
     "data": {
      "text/plain": [
       "RandomizedSearchCV(cv=10,\n",
       "                   estimator=RandomForestClassifier(bootstrap=False,\n",
       "                                                    random_state=42),\n",
       "                   n_iter=200, n_jobs=-1,\n",
       "                   param_distributions={'max_depth': [3, 5, 10, 20, 30, 40,\n",
       "                                                      None],\n",
       "                                        'min_samples_leaf': [1, 2, 4],\n",
       "                                        'min_samples_split': [5, 10, 15],\n",
       "                                        'n_estimators': [50, 60, 70, 80, 100]},\n",
       "                   random_state=42, verbose=2)"
      ]
     },
     "execution_count": 67,
     "metadata": {},
     "output_type": "execute_result"
    }
   ],
   "source": [
    "from sklearn.model_selection import RandomizedSearchCV \n",
    "\n",
    "rf_base = RandomForestClassifier(random_state=42, bootstrap=False)\n",
    "rf_grid = {\n",
    "#     'bootstrap': [True, False],\n",
    "               'max_depth': [3, 5, 10, 20, 30, 40, None],\n",
    "#                'max_features': ['auto', 'sqrt'],\n",
    "               'min_samples_leaf': [1, 2, 4],\n",
    "               'min_samples_split': [5, 10, 15],\n",
    "               'n_estimators': [50, 60, 70, 80, 100]}\n",
    "rf_search = RandomizedSearchCV(\n",
    "    estimator=rf_base, \n",
    "    param_distributions = rf_grid, \n",
    "    n_iter=200, cv=10, verbose=2, random_state=42, n_jobs=-1)\n",
    "\n",
    "rf_search.fit(titanic_prepared, titanic_labels)"
   ]
  },
  {
   "cell_type": "code",
   "execution_count": 68,
   "metadata": {},
   "outputs": [],
   "source": [
    "def print_mean_score_params(cv_results):\n",
    "    for mean_score, params in zip(cv_results[\"mean_test_score\"], cv_results[\"params\"]):\n",
    "        print(mean_score, params)"
   ]
  },
  {
   "cell_type": "code",
   "execution_count": 69,
   "metadata": {},
   "outputs": [
    {
     "name": "stdout",
     "output_type": "stream",
     "text": [
      "0.8249313358302123 {'n_estimators': 60, 'min_samples_split': 15, 'min_samples_leaf': 2, 'max_depth': 30}\n",
      "0.8125593008739077 {'n_estimators': 80, 'min_samples_split': 5, 'min_samples_leaf': 4, 'max_depth': 3}\n",
      "0.8249313358302123 {'n_estimators': 80, 'min_samples_split': 15, 'min_samples_leaf': 2, 'max_depth': 20}\n",
      "0.8249063670411985 {'n_estimators': 80, 'min_samples_split': 5, 'min_samples_leaf': 4, 'max_depth': 5}\n",
      "0.8260424469413234 {'n_estimators': 80, 'min_samples_split': 5, 'min_samples_leaf': 1, 'max_depth': 10}\n",
      "0.8238451935081148 {'n_estimators': 100, 'min_samples_split': 5, 'min_samples_leaf': 1, 'max_depth': 40}\n",
      "0.8193008739076154 {'n_estimators': 50, 'min_samples_split': 15, 'min_samples_leaf': 2, 'max_depth': 3}\n",
      "0.8092009987515606 {'n_estimators': 100, 'min_samples_split': 10, 'min_samples_leaf': 1, 'max_depth': 3}\n",
      "0.8294007490636703 {'n_estimators': 80, 'min_samples_split': 5, 'min_samples_leaf': 2, 'max_depth': 5}\n",
      "0.8249063670411985 {'n_estimators': 70, 'min_samples_split': 10, 'min_samples_leaf': 4, 'max_depth': 5}\n",
      "0.818214731585518 {'n_estimators': 70, 'min_samples_split': 5, 'min_samples_leaf': 4, 'max_depth': 20}\n",
      "0.8305368289637952 {'n_estimators': 80, 'min_samples_split': 15, 'min_samples_leaf': 1, 'max_depth': 30}\n",
      "0.8181897627965042 {'n_estimators': 70, 'min_samples_split': 10, 'min_samples_leaf': 2, 'max_depth': 20}\n",
      "0.8282771535580524 {'n_estimators': 50, 'min_samples_split': 5, 'min_samples_leaf': 2, 'max_depth': 5}\n",
      "0.8294132334581773 {'n_estimators': 50, 'min_samples_split': 15, 'min_samples_leaf': 1, 'max_depth': 20}\n",
      "0.8238202247191012 {'n_estimators': 80, 'min_samples_split': 5, 'min_samples_leaf': 2, 'max_depth': 30}\n",
      "0.818214731585518 {'n_estimators': 80, 'min_samples_split': 5, 'min_samples_leaf': 4, 'max_depth': 30}\n",
      "0.8215605493133582 {'n_estimators': 100, 'min_samples_split': 10, 'min_samples_leaf': 1, 'max_depth': None}\n",
      "0.8260424469413234 {'n_estimators': 100, 'min_samples_split': 15, 'min_samples_leaf': 2, 'max_depth': 40}\n",
      "0.8181772784019975 {'n_estimators': 70, 'min_samples_split': 15, 'min_samples_leaf': 4, 'max_depth': 3}\n",
      "0.8181897627965042 {'n_estimators': 50, 'min_samples_split': 10, 'min_samples_leaf': 1, 'max_depth': 3}\n",
      "0.8316604244694131 {'n_estimators': 100, 'min_samples_split': 15, 'min_samples_leaf': 1, 'max_depth': 40}\n",
      "0.8182521847690387 {'n_estimators': 70, 'min_samples_split': 5, 'min_samples_leaf': 1, 'max_depth': 40}\n",
      "0.8260424469413234 {'n_estimators': 100, 'min_samples_split': 15, 'min_samples_leaf': 2, 'max_depth': 20}\n",
      "0.8249438202247191 {'n_estimators': 50, 'min_samples_split': 15, 'min_samples_leaf': 2, 'max_depth': None}\n",
      "0.8238451935081148 {'n_estimators': 100, 'min_samples_split': 5, 'min_samples_leaf': 1, 'max_depth': None}\n",
      "0.8271660424469411 {'n_estimators': 100, 'min_samples_split': 15, 'min_samples_leaf': 2, 'max_depth': 10}\n",
      "0.8260424469413234 {'n_estimators': 100, 'min_samples_split': 15, 'min_samples_leaf': 2, 'max_depth': None}\n",
      "0.8249063670411984 {'n_estimators': 60, 'min_samples_split': 5, 'min_samples_leaf': 4, 'max_depth': 5}\n",
      "0.8282896379525594 {'n_estimators': 80, 'min_samples_split': 15, 'min_samples_leaf': 1, 'max_depth': 20}\n",
      "0.821585518102372 {'n_estimators': 70, 'min_samples_split': 10, 'min_samples_leaf': 4, 'max_depth': None}\n",
      "0.8204619225967541 {'n_estimators': 70, 'min_samples_split': 5, 'min_samples_leaf': 2, 'max_depth': 20}\n",
      "0.8226591760299625 {'n_estimators': 70, 'min_samples_split': 15, 'min_samples_leaf': 1, 'max_depth': 5}\n",
      "0.8271660424469414 {'n_estimators': 50, 'min_samples_split': 10, 'min_samples_leaf': 1, 'max_depth': None}\n",
      "0.8327840199750313 {'n_estimators': 50, 'min_samples_split': 15, 'min_samples_leaf': 1, 'max_depth': None}\n",
      "0.8271785268414481 {'n_estimators': 70, 'min_samples_split': 15, 'min_samples_leaf': 2, 'max_depth': None}\n",
      "0.8260549313358302 {'n_estimators': 80, 'min_samples_split': 10, 'min_samples_leaf': 2, 'max_depth': 10}\n",
      "0.8148064918851435 {'n_estimators': 80, 'min_samples_split': 5, 'min_samples_leaf': 1, 'max_depth': 3}\n",
      "0.82270911360799 {'n_estimators': 50, 'min_samples_split': 15, 'min_samples_leaf': 4, 'max_depth': None}\n",
      "0.8260549313358302 {'n_estimators': 60, 'min_samples_split': 10, 'min_samples_leaf': 2, 'max_depth': 10}\n",
      "0.8204619225967541 {'n_estimators': 100, 'min_samples_split': 10, 'min_samples_leaf': 4, 'max_depth': 30}\n",
      "0.8249313358302122 {'n_estimators': 100, 'min_samples_split': 15, 'min_samples_leaf': 1, 'max_depth': 10}\n",
      "0.8249063670411985 {'n_estimators': 100, 'min_samples_split': 10, 'min_samples_leaf': 4, 'max_depth': 5}\n",
      "0.8249063670411985 {'n_estimators': 70, 'min_samples_split': 5, 'min_samples_leaf': 4, 'max_depth': 5}\n",
      "0.8249063670411985 {'n_estimators': 60, 'min_samples_split': 5, 'min_samples_leaf': 1, 'max_depth': 5}\n",
      "0.8271535580524345 {'n_estimators': 50, 'min_samples_split': 5, 'min_samples_leaf': 1, 'max_depth': 5}\n",
      "0.8226716604244693 {'n_estimators': 70, 'min_samples_split': 5, 'min_samples_leaf': 2, 'max_depth': 3}\n",
      "0.8204619225967539 {'n_estimators': 50, 'min_samples_split': 5, 'min_samples_leaf': 1, 'max_depth': 30}\n",
      "0.8249563046192259 {'n_estimators': 80, 'min_samples_split': 5, 'min_samples_leaf': 1, 'max_depth': 30}\n",
      "0.8249188514357053 {'n_estimators': 50, 'min_samples_split': 10, 'min_samples_leaf': 1, 'max_depth': 20}\n",
      "0.8080774032459426 {'n_estimators': 100, 'min_samples_split': 10, 'min_samples_leaf': 2, 'max_depth': 3}\n",
      "0.8215355805243446 {'n_estimators': 80, 'min_samples_split': 15, 'min_samples_leaf': 2, 'max_depth': 5}\n",
      "0.8249438202247191 {'n_estimators': 100, 'min_samples_split': 10, 'min_samples_leaf': 2, 'max_depth': 30}\n",
      "0.8260799001248438 {'n_estimators': 80, 'min_samples_split': 5, 'min_samples_leaf': 2, 'max_depth': 10}\n",
      "0.8226966292134831 {'n_estimators': 50, 'min_samples_split': 5, 'min_samples_leaf': 1, 'max_depth': 10}\n",
      "0.8282896379525593 {'n_estimators': 60, 'min_samples_split': 15, 'min_samples_leaf': 2, 'max_depth': 10}\n",
      "0.818214731585518 {'n_estimators': 100, 'min_samples_split': 5, 'min_samples_leaf': 4, 'max_depth': None}\n",
      "0.8226716604244693 {'n_estimators': 70, 'min_samples_split': 10, 'min_samples_leaf': 1, 'max_depth': 3}\n",
      "0.8204369538077403 {'n_estimators': 70, 'min_samples_split': 10, 'min_samples_leaf': 2, 'max_depth': None}\n",
      "0.8238451935081148 {'n_estimators': 100, 'min_samples_split': 5, 'min_samples_leaf': 1, 'max_depth': 30}\n",
      "0.8193383270911362 {'n_estimators': 100, 'min_samples_split': 15, 'min_samples_leaf': 4, 'max_depth': 40}\n",
      "0.821585518102372 {'n_estimators': 80, 'min_samples_split': 10, 'min_samples_leaf': 4, 'max_depth': 20}\n",
      "0.8249313358302123 {'n_estimators': 60, 'min_samples_split': 15, 'min_samples_leaf': 2, 'max_depth': None}\n",
      "0.821585518102372 {'n_estimators': 60, 'min_samples_split': 15, 'min_samples_leaf': 4, 'max_depth': 30}\n",
      "0.8204619225967541 {'n_estimators': 70, 'min_samples_split': 15, 'min_samples_leaf': 4, 'max_depth': 10}\n",
      "0.8204619225967541 {'n_estimators': 50, 'min_samples_split': 10, 'min_samples_leaf': 2, 'max_depth': 20}\n",
      "0.8260299625468164 {'n_estimators': 100, 'min_samples_split': 5, 'min_samples_leaf': 1, 'max_depth': 10}\n",
      "0.8238202247191012 {'n_estimators': 50, 'min_samples_split': 10, 'min_samples_leaf': 2, 'max_depth': 40}\n",
      "0.8226591760299625 {'n_estimators': 50, 'min_samples_split': 5, 'min_samples_leaf': 4, 'max_depth': 5}\n",
      "0.8282896379525594 {'n_estimators': 70, 'min_samples_split': 15, 'min_samples_leaf': 1, 'max_depth': 20}\n",
      "0.8237952559300874 {'n_estimators': 80, 'min_samples_split': 10, 'min_samples_leaf': 1, 'max_depth': 40}\n",
      "0.821585518102372 {'n_estimators': 70, 'min_samples_split': 10, 'min_samples_leaf': 4, 'max_depth': 40}\n",
      "0.8249313358302123 {'n_estimators': 80, 'min_samples_split': 15, 'min_samples_leaf': 2, 'max_depth': 30}\n",
      "0.8283021223470662 {'n_estimators': 100, 'min_samples_split': 10, 'min_samples_leaf': 2, 'max_depth': 10}\n",
      "0.8294132334581773 {'n_estimators': 80, 'min_samples_split': 10, 'min_samples_leaf': 1, 'max_depth': 20}\n",
      "0.8170911360799001 {'n_estimators': 60, 'min_samples_split': 5, 'min_samples_leaf': 4, 'max_depth': 30}\n",
      "0.8226841448189763 {'n_estimators': 70, 'min_samples_split': 10, 'min_samples_leaf': 1, 'max_depth': 40}\n",
      "0.8204619225967541 {'n_estimators': 60, 'min_samples_split': 10, 'min_samples_leaf': 4, 'max_depth': 40}\n",
      "0.8237827715355805 {'n_estimators': 100, 'min_samples_split': 15, 'min_samples_leaf': 1, 'max_depth': 5}\n",
      "0.8260923845193509 {'n_estimators': 100, 'min_samples_split': 5, 'min_samples_leaf': 2, 'max_depth': 10}\n",
      "0.8226716604244695 {'n_estimators': 60, 'min_samples_split': 10, 'min_samples_leaf': 1, 'max_depth': 3}\n",
      "0.8249313358302123 {'n_estimators': 80, 'min_samples_split': 15, 'min_samples_leaf': 2, 'max_depth': None}\n",
      "0.8170536828963794 {'n_estimators': 50, 'min_samples_split': 5, 'min_samples_leaf': 4, 'max_depth': 3}\n",
      "0.8226716604244693 {'n_estimators': 70, 'min_samples_split': 10, 'min_samples_leaf': 2, 'max_depth': 3}\n",
      "0.82270911360799 {'n_estimators': 70, 'min_samples_split': 15, 'min_samples_leaf': 4, 'max_depth': 40}\n",
      "0.8226591760299625 {'n_estimators': 60, 'min_samples_split': 15, 'min_samples_leaf': 1, 'max_depth': 5}\n",
      "0.8170911360799001 {'n_estimators': 50, 'min_samples_split': 5, 'min_samples_leaf': 4, 'max_depth': 40}\n",
      "0.8249438202247191 {'n_estimators': 100, 'min_samples_split': 5, 'min_samples_leaf': 2, 'max_depth': 30}\n",
      "0.8249438202247191 {'n_estimators': 100, 'min_samples_split': 10, 'min_samples_leaf': 2, 'max_depth': 40}\n",
      "0.8182521847690387 {'n_estimators': 70, 'min_samples_split': 5, 'min_samples_leaf': 1, 'max_depth': 30}\n",
      "0.8249313358302123 {'n_estimators': 80, 'min_samples_split': 15, 'min_samples_leaf': 2, 'max_depth': 40}\n",
      "0.8249438202247191 {'n_estimators': 100, 'min_samples_split': 10, 'min_samples_leaf': 2, 'max_depth': None}\n",
      "0.8249313358302122 {'n_estimators': 100, 'min_samples_split': 10, 'min_samples_leaf': 1, 'max_depth': 20}\n",
      "0.821585518102372 {'n_estimators': 60, 'min_samples_split': 15, 'min_samples_leaf': 4, 'max_depth': 20}\n",
      "0.8294257178526842 {'n_estimators': 60, 'min_samples_split': 15, 'min_samples_leaf': 1, 'max_depth': 10}\n",
      "0.8170911360799001 {'n_estimators': 60, 'min_samples_split': 5, 'min_samples_leaf': 4, 'max_depth': 40}\n",
      "0.8215355805243444 {'n_estimators': 60, 'min_samples_split': 10, 'min_samples_leaf': 2, 'max_depth': 5}\n",
      "0.8159800249687891 {'n_estimators': 60, 'min_samples_split': 10, 'min_samples_leaf': 4, 'max_depth': 10}\n",
      "0.8136828963795256 {'n_estimators': 80, 'min_samples_split': 5, 'min_samples_leaf': 2, 'max_depth': 3}\n",
      "0.82270911360799 {'n_estimators': 100, 'min_samples_split': 15, 'min_samples_leaf': 4, 'max_depth': 20}\n",
      "0.82270911360799 {'n_estimators': 70, 'min_samples_split': 15, 'min_samples_leaf': 4, 'max_depth': None}\n",
      "0.8080774032459426 {'n_estimators': 100, 'min_samples_split': 5, 'min_samples_leaf': 2, 'max_depth': 3}\n",
      "0.8226966292134831 {'n_estimators': 100, 'min_samples_split': 5, 'min_samples_leaf': 2, 'max_depth': 20}\n",
      "0.8215480649188514 {'n_estimators': 70, 'min_samples_split': 5, 'min_samples_leaf': 1, 'max_depth': 10}\n",
      "0.8294007490636706 {'n_estimators': 100, 'min_samples_split': 5, 'min_samples_leaf': 4, 'max_depth': 5}\n",
      "0.8204619225967539 {'n_estimators': 50, 'min_samples_split': 5, 'min_samples_leaf': 1, 'max_depth': 40}\n",
      "0.8170911360799001 {'n_estimators': 60, 'min_samples_split': 5, 'min_samples_leaf': 4, 'max_depth': None}\n",
      "0.8215355805243444 {'n_estimators': 70, 'min_samples_split': 15, 'min_samples_leaf': 2, 'max_depth': 5}\n",
      "0.8238202247191012 {'n_estimators': 60, 'min_samples_split': 10, 'min_samples_leaf': 1, 'max_depth': 10}\n",
      "0.8170661672908863 {'n_estimators': 50, 'min_samples_split': 5, 'min_samples_leaf': 2, 'max_depth': 3}\n",
      "0.8204244694132334 {'n_estimators': 50, 'min_samples_split': 15, 'min_samples_leaf': 1, 'max_depth': 3}\n",
      "0.823832709113608 {'n_estimators': 50, 'min_samples_split': 15, 'min_samples_leaf': 4, 'max_depth': 20}\n",
      "0.8249563046192259 {'n_estimators': 100, 'min_samples_split': 5, 'min_samples_leaf': 4, 'max_depth': 10}\n",
      "0.8249313358302123 {'n_estimators': 70, 'min_samples_split': 10, 'min_samples_leaf': 1, 'max_depth': 10}\n",
      "0.8204244694132333 {'n_estimators': 80, 'min_samples_split': 10, 'min_samples_leaf': 2, 'max_depth': 5}\n",
      "0.8238077403245943 {'n_estimators': 60, 'min_samples_split': 10, 'min_samples_leaf': 2, 'max_depth': 40}\n",
      "0.8193008739076155 {'n_estimators': 70, 'min_samples_split': 10, 'min_samples_leaf': 4, 'max_depth': 3}\n",
      "0.8215480649188514 {'n_estimators': 60, 'min_samples_split': 5, 'min_samples_leaf': 2, 'max_depth': 3}\n",
      "0.8260299625468164 {'n_estimators': 50, 'min_samples_split': 15, 'min_samples_leaf': 1, 'max_depth': 5}\n",
      "0.823832709113608 {'n_estimators': 80, 'min_samples_split': 15, 'min_samples_leaf': 4, 'max_depth': 30}\n",
      "0.8316604244694131 {'n_estimators': 100, 'min_samples_split': 15, 'min_samples_leaf': 1, 'max_depth': None}\n",
      "0.8282771535580524 {'n_estimators': 70, 'min_samples_split': 10, 'min_samples_leaf': 2, 'max_depth': 5}\n",
      "0.8294132334581773 {'n_estimators': 80, 'min_samples_split': 15, 'min_samples_leaf': 2, 'max_depth': 10}\n",
      "0.82270911360799 {'n_estimators': 70, 'min_samples_split': 10, 'min_samples_leaf': 4, 'max_depth': 20}\n",
      "0.8237827715355805 {'n_estimators': 100, 'min_samples_split': 10, 'min_samples_leaf': 2, 'max_depth': 5}\n",
      "0.8193008739076155 {'n_estimators': 60, 'min_samples_split': 5, 'min_samples_leaf': 4, 'max_depth': 3}\n",
      "0.8215730337078652 {'n_estimators': 80, 'min_samples_split': 10, 'min_samples_leaf': 2, 'max_depth': 30}\n",
      "0.8204619225967541 {'n_estimators': 50, 'min_samples_split': 5, 'min_samples_leaf': 4, 'max_depth': 20}\n",
      "0.8204369538077403 {'n_estimators': 70, 'min_samples_split': 10, 'min_samples_leaf': 2, 'max_depth': 40}\n",
      "0.8249563046192259 {'n_estimators': 50, 'min_samples_split': 10, 'min_samples_leaf': 4, 'max_depth': 10}\n",
      "0.8227091136079899 {'n_estimators': 70, 'min_samples_split': 15, 'min_samples_leaf': 4, 'max_depth': 20}\n",
      "0.8192883895131086 {'n_estimators': 60, 'min_samples_split': 15, 'min_samples_leaf': 4, 'max_depth': 5}\n",
      "0.82270911360799 {'n_estimators': 50, 'min_samples_split': 15, 'min_samples_leaf': 4, 'max_depth': 40}\n",
      "0.826079900124844 {'n_estimators': 70, 'min_samples_split': 5, 'min_samples_leaf': 2, 'max_depth': 30}\n",
      "0.821585518102372 {'n_estimators': 60, 'min_samples_split': 15, 'min_samples_leaf': 4, 'max_depth': 40}\n",
      "0.8182397003745316 {'n_estimators': 70, 'min_samples_split': 5, 'min_samples_leaf': 1, 'max_depth': 20}\n",
      "0.8193632958801498 {'n_estimators': 60, 'min_samples_split': 5, 'min_samples_leaf': 1, 'max_depth': 40}\n",
      "0.82270911360799 {'n_estimators': 100, 'min_samples_split': 5, 'min_samples_leaf': 1, 'max_depth': 20}\n",
      "0.8204369538077403 {'n_estimators': 70, 'min_samples_split': 10, 'min_samples_leaf': 2, 'max_depth': 30}\n",
      "0.8282896379525594 {'n_estimators': 60, 'min_samples_split': 15, 'min_samples_leaf': 1, 'max_depth': 20}\n",
      "0.8249438202247191 {'n_estimators': 100, 'min_samples_split': 5, 'min_samples_leaf': 2, 'max_depth': 40}\n",
      "0.821598002496879 {'n_estimators': 100, 'min_samples_split': 10, 'min_samples_leaf': 4, 'max_depth': 10}\n",
      "0.8125593008739077 {'n_estimators': 80, 'min_samples_split': 10, 'min_samples_leaf': 4, 'max_depth': 3}\n",
      "0.8170911360799001 {'n_estimators': 50, 'min_samples_split': 5, 'min_samples_leaf': 4, 'max_depth': None}\n",
      "0.8282896379525593 {'n_estimators': 60, 'min_samples_split': 10, 'min_samples_leaf': 1, 'max_depth': 30}\n",
      "0.818214731585518 {'n_estimators': 80, 'min_samples_split': 5, 'min_samples_leaf': 4, 'max_depth': None}\n",
      "0.8271785268414481 {'n_estimators': 70, 'min_samples_split': 10, 'min_samples_leaf': 2, 'max_depth': 10}\n",
      "0.8271660424469414 {'n_estimators': 50, 'min_samples_split': 10, 'min_samples_leaf': 1, 'max_depth': 30}\n",
      "0.8260424469413232 {'n_estimators': 70, 'min_samples_split': 15, 'min_samples_leaf': 2, 'max_depth': 10}\n",
      "0.8238077403245943 {'n_estimators': 60, 'min_samples_split': 10, 'min_samples_leaf': 2, 'max_depth': None}\n",
      "0.8316853932584269 {'n_estimators': 50, 'min_samples_split': 5, 'min_samples_leaf': 2, 'max_depth': None}\n",
      "0.8193632958801498 {'n_estimators': 60, 'min_samples_split': 5, 'min_samples_leaf': 1, 'max_depth': 30}\n",
      "0.8316604244694131 {'n_estimators': 100, 'min_samples_split': 15, 'min_samples_leaf': 1, 'max_depth': 30}\n",
      "0.8272034956304619 {'n_estimators': 60, 'min_samples_split': 5, 'min_samples_leaf': 2, 'max_depth': 30}\n",
      "0.8226716604244693 {'n_estimators': 70, 'min_samples_split': 5, 'min_samples_leaf': 1, 'max_depth': 3}\n",
      "0.8260424469413234 {'n_estimators': 50, 'min_samples_split': 15, 'min_samples_leaf': 2, 'max_depth': 10}\n",
      "0.8170786516853934 {'n_estimators': 80, 'min_samples_split': 10, 'min_samples_leaf': 2, 'max_depth': 20}\n",
      "0.8316853932584269 {'n_estimators': 50, 'min_samples_split': 5, 'min_samples_leaf': 2, 'max_depth': 30}\n",
      "0.8193383270911362 {'n_estimators': 50, 'min_samples_split': 5, 'min_samples_leaf': 4, 'max_depth': 10}\n",
      "0.8282896379525593 {'n_estimators': 60, 'min_samples_split': 10, 'min_samples_leaf': 1, 'max_depth': 40}\n",
      "0.8182521847690387 {'n_estimators': 70, 'min_samples_split': 5, 'min_samples_leaf': 1, 'max_depth': None}\n",
      "0.8182272159800249 {'n_estimators': 70, 'min_samples_split': 10, 'min_samples_leaf': 4, 'max_depth': 10}\n",
      "0.8204119850187265 {'n_estimators': 100, 'min_samples_split': 15, 'min_samples_leaf': 2, 'max_depth': 5}\n",
      "0.8069538077403247 {'n_estimators': 100, 'min_samples_split': 15, 'min_samples_leaf': 2, 'max_depth': 3}\n",
      "0.8226716604244695 {'n_estimators': 80, 'min_samples_split': 10, 'min_samples_leaf': 4, 'max_depth': 5}\n",
      "0.8204619225967541 {'n_estimators': 50, 'min_samples_split': 10, 'min_samples_leaf': 4, 'max_depth': 40}\n",
      "0.8272034956304619 {'n_estimators': 70, 'min_samples_split': 5, 'min_samples_leaf': 2, 'max_depth': 10}\n",
      "0.8170911360799 {'n_estimators': 80, 'min_samples_split': 5, 'min_samples_leaf': 4, 'max_depth': 20}\n",
      "0.818214731585518 {'n_estimators': 80, 'min_samples_split': 5, 'min_samples_leaf': 4, 'max_depth': 40}\n",
      "0.821585518102372 {'n_estimators': 80, 'min_samples_split': 15, 'min_samples_leaf': 4, 'max_depth': 10}\n",
      "0.8260424469413234 {'n_estimators': 100, 'min_samples_split': 15, 'min_samples_leaf': 2, 'max_depth': 30}\n",
      "0.8294132334581773 {'n_estimators': 70, 'min_samples_split': 15, 'min_samples_leaf': 1, 'max_depth': 40}\n",
      "0.8238202247191012 {'n_estimators': 50, 'min_samples_split': 10, 'min_samples_leaf': 2, 'max_depth': None}\n",
      "0.8260299625468164 {'n_estimators': 50, 'min_samples_split': 10, 'min_samples_leaf': 2, 'max_depth': 5}\n",
      "0.821585518102372 {'n_estimators': 80, 'min_samples_split': 10, 'min_samples_leaf': 4, 'max_depth': 30}\n",
      "0.8226591760299625 {'n_estimators': 50, 'min_samples_split': 15, 'min_samples_leaf': 4, 'max_depth': 5}\n",
      "0.8215605493133582 {'n_estimators': 100, 'min_samples_split': 10, 'min_samples_leaf': 1, 'max_depth': 40}\n",
      "0.8226966292134833 {'n_estimators': 100, 'min_samples_split': 10, 'min_samples_leaf': 2, 'max_depth': 20}\n",
      "0.8204369538077403 {'n_estimators': 70, 'min_samples_split': 15, 'min_samples_leaf': 1, 'max_depth': 3}\n",
      "0.8170536828963794 {'n_estimators': 50, 'min_samples_split': 10, 'min_samples_leaf': 4, 'max_depth': 3}\n",
      "0.8148189762796504 {'n_estimators': 80, 'min_samples_split': 15, 'min_samples_leaf': 2, 'max_depth': 3}\n",
      "0.8204619225967541 {'n_estimators': 50, 'min_samples_split': 10, 'min_samples_leaf': 4, 'max_depth': 20}\n",
      "0.8260424469413234 {'n_estimators': 70, 'min_samples_split': 10, 'min_samples_leaf': 1, 'max_depth': 20}\n",
      "0.8170911360799001 {'n_estimators': 50, 'min_samples_split': 5, 'min_samples_leaf': 4, 'max_depth': 30}\n",
      "0.823832709113608 {'n_estimators': 60, 'min_samples_split': 15, 'min_samples_leaf': 4, 'max_depth': 10}\n",
      "0.8305368289637952 {'n_estimators': 80, 'min_samples_split': 15, 'min_samples_leaf': 1, 'max_depth': None}\n",
      "0.8204119850187267 {'n_estimators': 60, 'min_samples_split': 10, 'min_samples_leaf': 1, 'max_depth': 5}\n",
      "0.8215730337078652 {'n_estimators': 50, 'min_samples_split': 10, 'min_samples_leaf': 1, 'max_depth': 10}\n",
      "0.8249563046192259 {'n_estimators': 80, 'min_samples_split': 5, 'min_samples_leaf': 1, 'max_depth': 40}\n",
      "0.823832709113608 {'n_estimators': 80, 'min_samples_split': 15, 'min_samples_leaf': 4, 'max_depth': 20}\n",
      "0.826079900124844 {'n_estimators': 70, 'min_samples_split': 5, 'min_samples_leaf': 2, 'max_depth': 40}\n",
      "0.8193008739076155 {'n_estimators': 60, 'min_samples_split': 15, 'min_samples_leaf': 4, 'max_depth': 3}\n",
      "0.8237827715355804 {'n_estimators': 100, 'min_samples_split': 15, 'min_samples_leaf': 4, 'max_depth': 5}\n",
      "0.8305368289637952 {'n_estimators': 80, 'min_samples_split': 15, 'min_samples_leaf': 1, 'max_depth': 40}\n",
      "0.8216104868913858 {'n_estimators': 60, 'min_samples_split': 5, 'min_samples_leaf': 1, 'max_depth': 20}\n",
      "0.8193133583021224 {'n_estimators': 60, 'min_samples_split': 15, 'min_samples_leaf': 2, 'max_depth': 3}\n",
      "0.821585518102372 {'n_estimators': 80, 'min_samples_split': 10, 'min_samples_leaf': 4, 'max_depth': None}\n",
      "0.8294132334581772 {'n_estimators': 60, 'min_samples_split': 10, 'min_samples_leaf': 1, 'max_depth': 20}\n",
      "0.82270911360799 {'n_estimators': 50, 'min_samples_split': 15, 'min_samples_leaf': 4, 'max_depth': 30}\n",
      "0.8181897627965042 {'n_estimators': 50, 'min_samples_split': 5, 'min_samples_leaf': 1, 'max_depth': 3}\n"
     ]
    }
   ],
   "source": [
    "rf_cv_results = rf_search.cv_results_\n",
    "print_mean_score_params(rf_cv_results)"
   ]
  },
  {
   "cell_type": "code",
   "execution_count": 70,
   "metadata": {},
   "outputs": [
    {
     "data": {
      "text/plain": [
       "RandomForestClassifier(bootstrap=False, min_samples_split=15, n_estimators=50,\n",
       "                       random_state=42)"
      ]
     },
     "execution_count": 70,
     "metadata": {},
     "output_type": "execute_result"
    }
   ],
   "source": [
    "best_rf = rf_search.best_estimator_\n",
    "best_rf"
   ]
  },
  {
   "cell_type": "code",
   "execution_count": 71,
   "metadata": {},
   "outputs": [
    {
     "data": {
      "text/plain": [
       "0.9304152637485971"
      ]
     },
     "execution_count": 71,
     "metadata": {},
     "output_type": "execute_result"
    }
   ],
   "source": [
    "best_rf.score(titanic_prepared, titanic_labels)"
   ]
  },
  {
   "cell_type": "code",
   "execution_count": 72,
   "metadata": {},
   "outputs": [
    {
     "name": "stdout",
     "output_type": "stream",
     "text": [
      "Scores: [0.82222222 0.85393258 0.74157303 0.80898876 0.91011236 0.84269663\n",
      " 0.82022472 0.80898876 0.88764045 0.83146067]\n",
      "Mean: 0.8327840199750313\n",
      "Standard deviation: 0.04388317767476118\n"
     ]
    }
   ],
   "source": [
    "display_cv_scores(best_rf)"
   ]
  },
  {
   "cell_type": "markdown",
   "metadata": {},
   "source": [
    "**NB score ~= cv_score + 10 : probably overfitting**"
   ]
  },
  {
   "cell_type": "code",
   "execution_count": 73,
   "metadata": {},
   "outputs": [
    {
     "name": "stdout",
     "output_type": "stream",
     "text": [
      "Accuracy: 0.9304152637485971\n",
      "\n",
      "Confusion matrix:\n",
      "[[534  15]\n",
      " [ 47 295]]\n",
      "\n",
      "Classification report:\n",
      "              precision    recall  f1-score   support\n",
      "\n",
      "           0       0.92      0.97      0.95       549\n",
      "           1       0.95      0.86      0.90       342\n",
      "\n",
      "    accuracy                           0.93       891\n",
      "   macro avg       0.94      0.92      0.93       891\n",
      "weighted avg       0.93      0.93      0.93       891\n",
      "\n"
     ]
    }
   ],
   "source": [
    "display_metrics(best_rf)"
   ]
  },
  {
   "cell_type": "markdown",
   "metadata": {},
   "source": [
    "## SVM kernel=rbf"
   ]
  },
  {
   "cell_type": "code",
   "execution_count": 74,
   "metadata": {},
   "outputs": [
    {
     "name": "stdout",
     "output_type": "stream",
     "text": [
      "Fitting 10 folds for each of 21 candidates, totalling 210 fits\n"
     ]
    }
   ],
   "source": [
    "from sklearn.model_selection import GridSearchCV\n",
    "\n",
    "def perform_grid_search(_estimator, _param_grid):\n",
    "    search = GridSearchCV(\n",
    "        estimator=_estimator,\n",
    "        param_grid=_param_grid, \n",
    "        cv=10, verbose=3, n_jobs=-1)\n",
    "    search.fit(titanic_prepared, titanic_labels)\n",
    "    return search\n",
    "\n",
    "svc_rbf_base = SVC(kernel=\"rbf\")\n",
    "svc_rbf_grid = {\n",
    "    'gamma': [0.1, 1, 10],\n",
    "    'C': [0.001, 0.01, 0.1, 1, 10, 100, 1000],\n",
    "}\n",
    "\n",
    "svc_rbf_search = perform_grid_search(svc_rbf_base, svc_rbf_grid)"
   ]
  },
  {
   "cell_type": "code",
   "execution_count": 75,
   "metadata": {},
   "outputs": [
    {
     "name": "stdout",
     "output_type": "stream",
     "text": [
      "0.616167290886392 {'C': 0.001, 'gamma': 0.1}\n",
      "0.616167290886392 {'C': 0.001, 'gamma': 1}\n",
      "0.616167290886392 {'C': 0.001, 'gamma': 10}\n",
      "0.616167290886392 {'C': 0.01, 'gamma': 0.1}\n",
      "0.616167290886392 {'C': 0.01, 'gamma': 1}\n",
      "0.616167290886392 {'C': 0.01, 'gamma': 10}\n",
      "0.8035830212234707 {'C': 0.1, 'gamma': 0.1}\n",
      "0.6195380774032458 {'C': 0.1, 'gamma': 1}\n",
      "0.616167290886392 {'C': 0.1, 'gamma': 10}\n",
      "0.8204494382022471 {'C': 1, 'gamma': 0.1}\n",
      "0.7845942571785269 {'C': 1, 'gamma': 1}\n",
      "0.6486891385767791 {'C': 1, 'gamma': 10}\n",
      "0.809238451935081 {'C': 10, 'gamma': 0.1}\n",
      "0.7610486891385768 {'C': 10, 'gamma': 1}\n",
      "0.6172284644194755 {'C': 10, 'gamma': 10}\n",
      "0.7711111111111111 {'C': 100, 'gamma': 0.1}\n",
      "0.7363171036204745 {'C': 100, 'gamma': 1}\n",
      "0.6161298377028714 {'C': 100, 'gamma': 10}\n",
      "0.7587390761548065 {'C': 1000, 'gamma': 0.1}\n",
      "0.682434456928839 {'C': 1000, 'gamma': 1}\n",
      "0.6183770287141075 {'C': 1000, 'gamma': 10}\n"
     ]
    }
   ],
   "source": [
    "svc_rbf_cv_results = svc_rbf_search.cv_results_\n",
    "print_mean_score_params(svc_rbf_cv_results)"
   ]
  },
  {
   "cell_type": "code",
   "execution_count": 76,
   "metadata": {},
   "outputs": [
    {
     "data": {
      "text/plain": [
       "SVC(C=1, gamma=0.1)"
      ]
     },
     "execution_count": 76,
     "metadata": {},
     "output_type": "execute_result"
    }
   ],
   "source": [
    "best_svc_rbf = svc_rbf_search.best_estimator_\n",
    "best_svc_rbf"
   ]
  },
  {
   "cell_type": "markdown",
   "metadata": {},
   "source": [
    "#### Iter: 2 centre: {'C': 1, 'gamma': 0.1}"
   ]
  },
  {
   "cell_type": "code",
   "execution_count": 77,
   "metadata": {},
   "outputs": [
    {
     "name": "stdout",
     "output_type": "stream",
     "text": [
      "Fitting 10 folds for each of 15 candidates, totalling 150 fits\n"
     ]
    },
    {
     "data": {
      "text/plain": [
       "GridSearchCV(cv=10, estimator=SVC(), n_jobs=-1,\n",
       "             param_grid={'C': [0.1, 0.5, 1, 5, 10], 'gamma': [0.05, 0.1, 0.5]},\n",
       "             verbose=3)"
      ]
     },
     "execution_count": 77,
     "metadata": {},
     "output_type": "execute_result"
    }
   ],
   "source": [
    "svc_rbf_grid_2 = {\n",
    "    'gamma': [0.05, 0.1, 0.5],\n",
    "    'C': [0.1, 0.5, 1, 5, 10],\n",
    "}\n",
    "\n",
    "svc_rbf_search = perform_grid_search(svc_rbf_base, svc_rbf_grid_2)\n",
    "svc_rbf_search"
   ]
  },
  {
   "cell_type": "code",
   "execution_count": 78,
   "metadata": {},
   "outputs": [
    {
     "name": "stdout",
     "output_type": "stream",
     "text": [
      "0.7979650436953808 {'C': 0.1, 'gamma': 0.05}\n",
      "0.8035830212234707 {'C': 0.1, 'gamma': 0.1}\n",
      "0.7407365792759051 {'C': 0.1, 'gamma': 0.5}\n",
      "0.8125717852684146 {'C': 0.5, 'gamma': 0.05}\n",
      "0.8159425717852684 {'C': 0.5, 'gamma': 0.1}\n",
      "0.8013732833957553 {'C': 0.5, 'gamma': 0.5}\n",
      "0.8204369538077403 {'C': 1, 'gamma': 0.05}\n",
      "0.8204494382022471 {'C': 1, 'gamma': 0.1}\n",
      "0.789063670411985 {'C': 1, 'gamma': 0.5}\n",
      "0.8204494382022471 {'C': 5, 'gamma': 0.05}\n",
      "0.8092384519350813 {'C': 5, 'gamma': 0.1}\n",
      "0.7756304619225968 {'C': 5, 'gamma': 0.5}\n",
      "0.8137203495630463 {'C': 10, 'gamma': 0.05}\n",
      "0.809238451935081 {'C': 10, 'gamma': 0.1}\n",
      "0.7755805243445691 {'C': 10, 'gamma': 0.5}\n"
     ]
    }
   ],
   "source": [
    "svc_rbf_cv_results = svc_rbf_search.cv_results_\n",
    "print_mean_score_params(svc_rbf_cv_results)"
   ]
  },
  {
   "cell_type": "code",
   "execution_count": 79,
   "metadata": {},
   "outputs": [
    {
     "data": {
      "text/plain": [
       "SVC(C=1, gamma=0.1)"
      ]
     },
     "execution_count": 79,
     "metadata": {},
     "output_type": "execute_result"
    }
   ],
   "source": [
    "best_svc_rbf = svc_rbf_search.best_estimator_\n",
    "best_svc_rbf"
   ]
  },
  {
   "cell_type": "markdown",
   "metadata": {},
   "source": [
    "#### No change, so try tighter distribution around  {'C': 1, 'gamma': 0.1}"
   ]
  },
  {
   "cell_type": "code",
   "execution_count": 80,
   "metadata": {},
   "outputs": [
    {
     "name": "stdout",
     "output_type": "stream",
     "text": [
      "Fitting 10 folds for each of 45 candidates, totalling 450 fits\n"
     ]
    },
    {
     "data": {
      "text/plain": [
       "GridSearchCV(cv=10, estimator=SVC(), n_jobs=-1,\n",
       "             param_grid={'C': [0.6, 0.7, 0.8, 0.9, 1, 1.1, 1.2, 1.3, 1.4],\n",
       "                         'gamma': [0.08, 0.09, 0.1, 0.11, 0.12]},\n",
       "             verbose=3)"
      ]
     },
     "execution_count": 80,
     "metadata": {},
     "output_type": "execute_result"
    }
   ],
   "source": [
    "svc_rbf_grid_3 = {\n",
    "    'gamma': [0.08, 0.09, 0.1, 0.11, 0.12],\n",
    "    'C': [0.6, 0.7, 0.8, 0.9, 1, 1.1, 1.2, 1.3, 1.4],\n",
    "}\n",
    "\n",
    "svc_rbf_search = perform_grid_search(svc_rbf_base, svc_rbf_grid_3)\n",
    "svc_rbf_search"
   ]
  },
  {
   "cell_type": "code",
   "execution_count": 81,
   "metadata": {},
   "outputs": [
    {
     "name": "stdout",
     "output_type": "stream",
     "text": [
      "0.8193133583021224 {'C': 0.6, 'gamma': 0.08}\n",
      "0.8181897627965045 {'C': 0.6, 'gamma': 0.09}\n",
      "0.8193133583021224 {'C': 0.6, 'gamma': 0.1}\n",
      "0.8204369538077403 {'C': 0.6, 'gamma': 0.11}\n",
      "0.8193133583021224 {'C': 0.6, 'gamma': 0.12}\n",
      "0.8215605493133582 {'C': 0.7, 'gamma': 0.08}\n",
      "0.8193133583021224 {'C': 0.7, 'gamma': 0.09}\n",
      "0.8215605493133582 {'C': 0.7, 'gamma': 0.1}\n",
      "0.8226841448189763 {'C': 0.7, 'gamma': 0.11}\n",
      "0.8215605493133582 {'C': 0.7, 'gamma': 0.12}\n",
      "0.8215605493133582 {'C': 0.8, 'gamma': 0.08}\n",
      "0.8204369538077403 {'C': 0.8, 'gamma': 0.09}\n",
      "0.8226841448189763 {'C': 0.8, 'gamma': 0.1}\n",
      "0.8215605493133582 {'C': 0.8, 'gamma': 0.11}\n",
      "0.8193258426966292 {'C': 0.8, 'gamma': 0.12}\n",
      "0.8215605493133582 {'C': 0.9, 'gamma': 0.08}\n",
      "0.8215605493133582 {'C': 0.9, 'gamma': 0.09}\n",
      "0.8182022471910113 {'C': 0.9, 'gamma': 0.1}\n",
      "0.8215730337078652 {'C': 0.9, 'gamma': 0.11}\n",
      "0.8204494382022471 {'C': 0.9, 'gamma': 0.12}\n",
      "0.8226841448189761 {'C': 1, 'gamma': 0.08}\n",
      "0.8204494382022471 {'C': 1, 'gamma': 0.09}\n",
      "0.8204494382022471 {'C': 1, 'gamma': 0.1}\n",
      "0.8204494382022472 {'C': 1, 'gamma': 0.11}\n",
      "0.8226966292134831 {'C': 1, 'gamma': 0.12}\n",
      "0.8215730337078652 {'C': 1.1, 'gamma': 0.08}\n",
      "0.8215730337078652 {'C': 1.1, 'gamma': 0.09}\n",
      "0.823820224719101 {'C': 1.1, 'gamma': 0.1}\n",
      "0.8249438202247191 {'C': 1.1, 'gamma': 0.11}\n",
      "0.8238202247191012 {'C': 1.1, 'gamma': 0.12}\n",
      "0.8215730337078652 {'C': 1.2, 'gamma': 0.08}\n",
      "0.8215730337078652 {'C': 1.2, 'gamma': 0.09}\n",
      "0.823820224719101 {'C': 1.2, 'gamma': 0.1}\n",
      "0.8226966292134831 {'C': 1.2, 'gamma': 0.11}\n",
      "0.8226966292134831 {'C': 1.2, 'gamma': 0.12}\n",
      "0.8226966292134831 {'C': 1.3, 'gamma': 0.08}\n",
      "0.8226966292134831 {'C': 1.3, 'gamma': 0.09}\n",
      "0.8226966292134831 {'C': 1.3, 'gamma': 0.1}\n",
      "0.8226966292134831 {'C': 1.3, 'gamma': 0.11}\n",
      "0.823820224719101 {'C': 1.3, 'gamma': 0.12}\n",
      "0.8226966292134831 {'C': 1.4, 'gamma': 0.08}\n",
      "0.8249438202247191 {'C': 1.4, 'gamma': 0.09}\n",
      "0.823820224719101 {'C': 1.4, 'gamma': 0.1}\n",
      "0.8226966292134831 {'C': 1.4, 'gamma': 0.11}\n",
      "0.8215730337078652 {'C': 1.4, 'gamma': 0.12}\n"
     ]
    }
   ],
   "source": [
    "svc_rbf_cv_results = svc_rbf_search.cv_results_\n",
    "print_mean_score_params(svc_rbf_cv_results)"
   ]
  },
  {
   "cell_type": "code",
   "execution_count": 82,
   "metadata": {},
   "outputs": [
    {
     "data": {
      "text/plain": [
       "SVC(C=1.1, gamma=0.11)"
      ]
     },
     "execution_count": 82,
     "metadata": {},
     "output_type": "execute_result"
    }
   ],
   "source": [
    "best_svc_rbf = svc_rbf_search.best_estimator_\n",
    "best_svc_rbf"
   ]
  },
  {
   "cell_type": "markdown",
   "metadata": {},
   "source": [
    "#### 2 best: {'C': 1.1, 'gamma': 0.11}, {'C': 1.4, 'gamma': 0.09}"
   ]
  },
  {
   "cell_type": "code",
   "execution_count": 83,
   "metadata": {},
   "outputs": [
    {
     "name": "stdout",
     "output_type": "stream",
     "text": [
      "Fitting 10 folds for each of 140 candidates, totalling 1400 fits\n"
     ]
    },
    {
     "data": {
      "text/plain": [
       "GridSearchCV(cv=10, estimator=SVC(), n_jobs=-1,\n",
       "             param_grid={'C': [1.1, 1.15, 1.2, 1.25, 1.3, 1.35, 1.4, 1.45, 1.5,\n",
       "                               1.55, 1.6, 1.65, 1.7, 1.75],\n",
       "                         'gamma': [0.08, 0.085, 0.09, 0.095, 0.1, 0.105, 0.11,\n",
       "                                   0.115, 0.12, 0.125]},\n",
       "             verbose=3)"
      ]
     },
     "execution_count": 83,
     "metadata": {},
     "output_type": "execute_result"
    }
   ],
   "source": [
    "svc_rbf_grid_4 = {\n",
    "    'gamma': [0.08, 0.085, 0.09, 0.095, 0.1, 0.105, 0.11, 0.115, 0.12, 0.125],\n",
    "    'C': [1.1, 1.15, 1.2, 1.25, 1.3, 1.35, 1.4, 1.45, 1.5, 1.55, 1.6, 1.65, 1.7, 1.75],\n",
    "}\n",
    "\n",
    "svc_rbf_search = perform_grid_search(svc_rbf_base, svc_rbf_grid_4)\n",
    "svc_rbf_search"
   ]
  },
  {
   "cell_type": "code",
   "execution_count": 84,
   "metadata": {},
   "outputs": [
    {
     "name": "stdout",
     "output_type": "stream",
     "text": [
      "0.8215730337078652 {'C': 1.1, 'gamma': 0.08}\n",
      "0.8204494382022471 {'C': 1.1, 'gamma': 0.085}\n",
      "0.8215730337078652 {'C': 1.1, 'gamma': 0.09}\n",
      "0.8215730337078652 {'C': 1.1, 'gamma': 0.095}\n",
      "0.823820224719101 {'C': 1.1, 'gamma': 0.1}\n",
      "0.823820224719101 {'C': 1.1, 'gamma': 0.105}\n",
      "0.8249438202247191 {'C': 1.1, 'gamma': 0.11}\n",
      "0.823820224719101 {'C': 1.1, 'gamma': 0.115}\n",
      "0.8238202247191012 {'C': 1.1, 'gamma': 0.12}\n",
      "0.8226966292134831 {'C': 1.1, 'gamma': 0.125}\n",
      "0.8215730337078652 {'C': 1.15, 'gamma': 0.08}\n",
      "0.8215730337078652 {'C': 1.15, 'gamma': 0.085}\n",
      "0.8215730337078652 {'C': 1.15, 'gamma': 0.09}\n",
      "0.8215730337078652 {'C': 1.15, 'gamma': 0.095}\n",
      "0.8226966292134831 {'C': 1.15, 'gamma': 0.1}\n",
      "0.8226966292134831 {'C': 1.15, 'gamma': 0.105}\n",
      "0.823820224719101 {'C': 1.15, 'gamma': 0.11}\n",
      "0.8215730337078652 {'C': 1.15, 'gamma': 0.115}\n",
      "0.8226966292134831 {'C': 1.15, 'gamma': 0.12}\n",
      "0.8226966292134831 {'C': 1.15, 'gamma': 0.125}\n",
      "0.8215730337078652 {'C': 1.2, 'gamma': 0.08}\n",
      "0.8215730337078652 {'C': 1.2, 'gamma': 0.085}\n",
      "0.8215730337078652 {'C': 1.2, 'gamma': 0.09}\n",
      "0.823820224719101 {'C': 1.2, 'gamma': 0.095}\n",
      "0.823820224719101 {'C': 1.2, 'gamma': 0.1}\n",
      "0.8226966292134831 {'C': 1.2, 'gamma': 0.105}\n",
      "0.8226966292134831 {'C': 1.2, 'gamma': 0.11}\n",
      "0.8238202247191012 {'C': 1.2, 'gamma': 0.115}\n",
      "0.8226966292134831 {'C': 1.2, 'gamma': 0.12}\n",
      "0.823820224719101 {'C': 1.2, 'gamma': 0.125}\n",
      "0.8226966292134831 {'C': 1.25, 'gamma': 0.08}\n",
      "0.8215730337078652 {'C': 1.25, 'gamma': 0.085}\n",
      "0.8215730337078652 {'C': 1.25, 'gamma': 0.09}\n",
      "0.8249438202247189 {'C': 1.25, 'gamma': 0.095}\n",
      "0.8226966292134831 {'C': 1.25, 'gamma': 0.1}\n",
      "0.8249438202247191 {'C': 1.25, 'gamma': 0.105}\n",
      "0.8215730337078652 {'C': 1.25, 'gamma': 0.11}\n",
      "0.8226966292134831 {'C': 1.25, 'gamma': 0.115}\n",
      "0.8226966292134831 {'C': 1.25, 'gamma': 0.12}\n",
      "0.8215730337078652 {'C': 1.25, 'gamma': 0.125}\n",
      "0.8226966292134831 {'C': 1.3, 'gamma': 0.08}\n",
      "0.8226966292134831 {'C': 1.3, 'gamma': 0.085}\n",
      "0.8226966292134831 {'C': 1.3, 'gamma': 0.09}\n",
      "0.823820224719101 {'C': 1.3, 'gamma': 0.095}\n",
      "0.8226966292134831 {'C': 1.3, 'gamma': 0.1}\n",
      "0.823820224719101 {'C': 1.3, 'gamma': 0.105}\n",
      "0.8226966292134831 {'C': 1.3, 'gamma': 0.11}\n",
      "0.8226966292134831 {'C': 1.3, 'gamma': 0.115}\n",
      "0.823820224719101 {'C': 1.3, 'gamma': 0.12}\n",
      "0.8215730337078652 {'C': 1.3, 'gamma': 0.125}\n",
      "0.8226966292134831 {'C': 1.35, 'gamma': 0.08}\n",
      "0.823820224719101 {'C': 1.35, 'gamma': 0.085}\n",
      "0.823820224719101 {'C': 1.35, 'gamma': 0.09}\n",
      "0.823820224719101 {'C': 1.35, 'gamma': 0.095}\n",
      "0.823820224719101 {'C': 1.35, 'gamma': 0.1}\n",
      "0.8226966292134831 {'C': 1.35, 'gamma': 0.105}\n",
      "0.8226966292134831 {'C': 1.35, 'gamma': 0.11}\n",
      "0.823820224719101 {'C': 1.35, 'gamma': 0.115}\n",
      "0.823820224719101 {'C': 1.35, 'gamma': 0.12}\n",
      "0.8204494382022472 {'C': 1.35, 'gamma': 0.125}\n",
      "0.8226966292134831 {'C': 1.4, 'gamma': 0.08}\n",
      "0.823820224719101 {'C': 1.4, 'gamma': 0.085}\n",
      "0.8249438202247191 {'C': 1.4, 'gamma': 0.09}\n",
      "0.823820224719101 {'C': 1.4, 'gamma': 0.095}\n",
      "0.823820224719101 {'C': 1.4, 'gamma': 0.1}\n",
      "0.8226966292134831 {'C': 1.4, 'gamma': 0.105}\n",
      "0.8226966292134831 {'C': 1.4, 'gamma': 0.11}\n",
      "0.823820224719101 {'C': 1.4, 'gamma': 0.115}\n",
      "0.8215730337078652 {'C': 1.4, 'gamma': 0.12}\n",
      "0.8204494382022472 {'C': 1.4, 'gamma': 0.125}\n",
      "0.823820224719101 {'C': 1.45, 'gamma': 0.08}\n",
      "0.823820224719101 {'C': 1.45, 'gamma': 0.085}\n",
      "0.823820224719101 {'C': 1.45, 'gamma': 0.09}\n",
      "0.823820224719101 {'C': 1.45, 'gamma': 0.095}\n",
      "0.8249438202247191 {'C': 1.45, 'gamma': 0.1}\n",
      "0.823820224719101 {'C': 1.45, 'gamma': 0.105}\n",
      "0.823820224719101 {'C': 1.45, 'gamma': 0.11}\n",
      "0.823820224719101 {'C': 1.45, 'gamma': 0.115}\n",
      "0.8215730337078652 {'C': 1.45, 'gamma': 0.12}\n",
      "0.8204494382022472 {'C': 1.45, 'gamma': 0.125}\n",
      "0.823820224719101 {'C': 1.5, 'gamma': 0.08}\n",
      "0.8249438202247191 {'C': 1.5, 'gamma': 0.085}\n",
      "0.8249438202247191 {'C': 1.5, 'gamma': 0.09}\n",
      "0.823820224719101 {'C': 1.5, 'gamma': 0.095}\n",
      "0.8249438202247191 {'C': 1.5, 'gamma': 0.1}\n",
      "0.823820224719101 {'C': 1.5, 'gamma': 0.105}\n",
      "0.823820224719101 {'C': 1.5, 'gamma': 0.11}\n",
      "0.8215730337078652 {'C': 1.5, 'gamma': 0.115}\n",
      "0.8204494382022472 {'C': 1.5, 'gamma': 0.12}\n",
      "0.8193258426966292 {'C': 1.5, 'gamma': 0.125}\n",
      "0.8249438202247189 {'C': 1.55, 'gamma': 0.08}\n",
      "0.823820224719101 {'C': 1.55, 'gamma': 0.085}\n",
      "0.823820224719101 {'C': 1.55, 'gamma': 0.09}\n",
      "0.8249438202247191 {'C': 1.55, 'gamma': 0.095}\n",
      "0.8238202247191012 {'C': 1.55, 'gamma': 0.1}\n",
      "0.823820224719101 {'C': 1.55, 'gamma': 0.105}\n",
      "0.823820224719101 {'C': 1.55, 'gamma': 0.11}\n",
      "0.8215730337078652 {'C': 1.55, 'gamma': 0.115}\n",
      "0.8204494382022472 {'C': 1.55, 'gamma': 0.12}\n",
      "0.8204494382022471 {'C': 1.55, 'gamma': 0.125}\n",
      "0.8249438202247189 {'C': 1.6, 'gamma': 0.08}\n",
      "0.823820224719101 {'C': 1.6, 'gamma': 0.085}\n",
      "0.823820224719101 {'C': 1.6, 'gamma': 0.09}\n",
      "0.8249438202247191 {'C': 1.6, 'gamma': 0.095}\n",
      "0.8249438202247191 {'C': 1.6, 'gamma': 0.1}\n",
      "0.8249438202247191 {'C': 1.6, 'gamma': 0.105}\n",
      "0.823820224719101 {'C': 1.6, 'gamma': 0.11}\n",
      "0.8204494382022472 {'C': 1.6, 'gamma': 0.115}\n",
      "0.8193258426966292 {'C': 1.6, 'gamma': 0.12}\n",
      "0.8193258426966292 {'C': 1.6, 'gamma': 0.125}\n",
      "0.826067415730337 {'C': 1.65, 'gamma': 0.08}\n",
      "0.823820224719101 {'C': 1.65, 'gamma': 0.085}\n",
      "0.8249438202247191 {'C': 1.65, 'gamma': 0.09}\n",
      "0.8249438202247191 {'C': 1.65, 'gamma': 0.095}\n",
      "0.8249438202247191 {'C': 1.65, 'gamma': 0.1}\n",
      "0.823820224719101 {'C': 1.65, 'gamma': 0.105}\n",
      "0.8226966292134831 {'C': 1.65, 'gamma': 0.11}\n",
      "0.8204494382022472 {'C': 1.65, 'gamma': 0.115}\n",
      "0.8204494382022471 {'C': 1.65, 'gamma': 0.12}\n",
      "0.8193258426966292 {'C': 1.65, 'gamma': 0.125}\n",
      "0.8249438202247191 {'C': 1.7, 'gamma': 0.08}\n",
      "0.8226966292134831 {'C': 1.7, 'gamma': 0.085}\n",
      "0.8249438202247191 {'C': 1.7, 'gamma': 0.09}\n",
      "0.8238202247191012 {'C': 1.7, 'gamma': 0.095}\n",
      "0.8249438202247191 {'C': 1.7, 'gamma': 0.1}\n",
      "0.823820224719101 {'C': 1.7, 'gamma': 0.105}\n",
      "0.8215730337078652 {'C': 1.7, 'gamma': 0.11}\n",
      "0.8204494382022471 {'C': 1.7, 'gamma': 0.115}\n",
      "0.8204494382022471 {'C': 1.7, 'gamma': 0.12}\n",
      "0.8159550561797753 {'C': 1.7, 'gamma': 0.125}\n",
      "0.823820224719101 {'C': 1.75, 'gamma': 0.08}\n",
      "0.8226966292134831 {'C': 1.75, 'gamma': 0.085}\n",
      "0.8249438202247191 {'C': 1.75, 'gamma': 0.09}\n",
      "0.8238202247191012 {'C': 1.75, 'gamma': 0.095}\n",
      "0.8249438202247191 {'C': 1.75, 'gamma': 0.1}\n",
      "0.823820224719101 {'C': 1.75, 'gamma': 0.105}\n",
      "0.8193258426966292 {'C': 1.75, 'gamma': 0.11}\n",
      "0.8193258426966292 {'C': 1.75, 'gamma': 0.115}\n",
      "0.8193258426966292 {'C': 1.75, 'gamma': 0.12}\n",
      "0.8148314606741573 {'C': 1.75, 'gamma': 0.125}\n"
     ]
    }
   ],
   "source": [
    "svc_rbf_cv_results = svc_rbf_search.cv_results_\n",
    "print_mean_score_params(svc_rbf_cv_results)"
   ]
  },
  {
   "cell_type": "code",
   "execution_count": 85,
   "metadata": {},
   "outputs": [
    {
     "data": {
      "text/plain": [
       "SVC(C=1.65, gamma=0.08)"
      ]
     },
     "execution_count": 85,
     "metadata": {},
     "output_type": "execute_result"
    }
   ],
   "source": [
    "best_svc_rbf = svc_rbf_search.best_estimator_\n",
    "best_svc_rbf"
   ]
  },
  {
   "cell_type": "code",
   "execution_count": 86,
   "metadata": {},
   "outputs": [
    {
     "data": {
      "text/plain": [
       "0.8372615039281706"
      ]
     },
     "execution_count": 86,
     "metadata": {},
     "output_type": "execute_result"
    }
   ],
   "source": [
    "best_svc_rbf.score(titanic_prepared, titanic_labels)"
   ]
  },
  {
   "cell_type": "code",
   "execution_count": 87,
   "metadata": {},
   "outputs": [
    {
     "name": "stdout",
     "output_type": "stream",
     "text": [
      "Scores: [0.8        0.86516854 0.75280899 0.87640449 0.83146067 0.79775281\n",
      " 0.83146067 0.79775281 0.86516854 0.84269663]\n",
      "Mean: 0.826067415730337\n",
      "Standard deviation: 0.03684571023651162\n"
     ]
    }
   ],
   "source": [
    "display_cv_scores(best_svc_rbf)"
   ]
  },
  {
   "cell_type": "markdown",
   "metadata": {},
   "source": [
    "**score much lower than RandomForest, but cv_score almost the same. Should generalize fairly well, or perhaps slightly underfitting**"
   ]
  },
  {
   "cell_type": "code",
   "execution_count": 88,
   "metadata": {},
   "outputs": [
    {
     "name": "stdout",
     "output_type": "stream",
     "text": [
      "Accuracy: 0.8372615039281706\n",
      "\n",
      "Confusion matrix:\n",
      "[[498  51]\n",
      " [ 94 248]]\n",
      "\n",
      "Classification report:\n",
      "              precision    recall  f1-score   support\n",
      "\n",
      "           0       0.84      0.91      0.87       549\n",
      "           1       0.83      0.73      0.77       342\n",
      "\n",
      "    accuracy                           0.84       891\n",
      "   macro avg       0.84      0.82      0.82       891\n",
      "weighted avg       0.84      0.84      0.83       891\n",
      "\n"
     ]
    }
   ],
   "source": [
    "display_metrics(best_svc_rbf)"
   ]
  },
  {
   "cell_type": "markdown",
   "metadata": {},
   "source": [
    "## LogisticRegression"
   ]
  },
  {
   "cell_type": "code",
   "execution_count": 89,
   "metadata": {},
   "outputs": [
    {
     "name": "stdout",
     "output_type": "stream",
     "text": [
      "Fitting 10 folds for each of 24 candidates, totalling 240 fits\n"
     ]
    },
    {
     "name": "stderr",
     "output_type": "stream",
     "text": [
      "C:\\Anaconda3\\envs\\mlenv1\\lib\\site-packages\\sklearn\\model_selection\\_search.py:921: UserWarning: One or more of the test scores are non-finite: [0.78563046 0.7878402  0.79008739        nan 0.80468165 0.79573034\n",
      " 0.80247191        nan 0.78563046 0.78561798 0.78563046        nan\n",
      " 0.80468165 0.80580524 0.80468165        nan 0.78563046 0.78563046\n",
      " 0.78563046        nan 0.80468165 0.80468165 0.80468165        nan]\n",
      "  category=UserWarning\n"
     ]
    },
    {
     "data": {
      "text/plain": [
       "GridSearchCV(cv=10,\n",
       "             estimator=LogisticRegression(max_iter=1000, random_state=42,\n",
       "                                          solver='saga'),\n",
       "             n_jobs=-1,\n",
       "             param_grid={'C': [0.1, 1.0, 10],\n",
       "                         'class_weight': ['balanced', None],\n",
       "                         'penalty': ['none', 'l1', 'l2', 'elasticnet']},\n",
       "             verbose=3)"
      ]
     },
     "execution_count": 89,
     "metadata": {},
     "output_type": "execute_result"
    }
   ],
   "source": [
    "log_reg_base = log_reg\n",
    "log_reg_grid_0 = {\n",
    "    'penalty': [\"none\", \"l1\", \"l2\", \"elasticnet\"],\n",
    "    'C': [0.1, 1.0, 10],\n",
    "    'class_weight': [\"balanced\", None],  \n",
    "}\n",
    "log_reg_search = perform_grid_search(log_reg_base, log_reg_grid_0)\n",
    "log_reg_search"
   ]
  },
  {
   "cell_type": "code",
   "execution_count": 90,
   "metadata": {},
   "outputs": [
    {
     "name": "stdout",
     "output_type": "stream",
     "text": [
      "0.7856304619225967 {'C': 0.1, 'class_weight': 'balanced', 'penalty': 'none'}\n",
      "0.787840199750312 {'C': 0.1, 'class_weight': 'balanced', 'penalty': 'l1'}\n",
      "0.790087390761548 {'C': 0.1, 'class_weight': 'balanced', 'penalty': 'l2'}\n",
      "nan {'C': 0.1, 'class_weight': 'balanced', 'penalty': 'elasticnet'}\n",
      "0.804681647940075 {'C': 0.1, 'class_weight': None, 'penalty': 'none'}\n",
      "0.7957303370786517 {'C': 0.1, 'class_weight': None, 'penalty': 'l1'}\n",
      "0.8024719101123596 {'C': 0.1, 'class_weight': None, 'penalty': 'l2'}\n",
      "nan {'C': 0.1, 'class_weight': None, 'penalty': 'elasticnet'}\n",
      "0.7856304619225967 {'C': 1.0, 'class_weight': 'balanced', 'penalty': 'none'}\n",
      "0.7856179775280899 {'C': 1.0, 'class_weight': 'balanced', 'penalty': 'l1'}\n",
      "0.7856304619225967 {'C': 1.0, 'class_weight': 'balanced', 'penalty': 'l2'}\n",
      "nan {'C': 1.0, 'class_weight': 'balanced', 'penalty': 'elasticnet'}\n",
      "0.804681647940075 {'C': 1.0, 'class_weight': None, 'penalty': 'none'}\n",
      "0.8058052434456929 {'C': 1.0, 'class_weight': None, 'penalty': 'l1'}\n",
      "0.804681647940075 {'C': 1.0, 'class_weight': None, 'penalty': 'l2'}\n",
      "nan {'C': 1.0, 'class_weight': None, 'penalty': 'elasticnet'}\n",
      "0.7856304619225967 {'C': 10, 'class_weight': 'balanced', 'penalty': 'none'}\n",
      "0.7856304619225967 {'C': 10, 'class_weight': 'balanced', 'penalty': 'l1'}\n",
      "0.7856304619225967 {'C': 10, 'class_weight': 'balanced', 'penalty': 'l2'}\n",
      "nan {'C': 10, 'class_weight': 'balanced', 'penalty': 'elasticnet'}\n",
      "0.804681647940075 {'C': 10, 'class_weight': None, 'penalty': 'none'}\n",
      "0.804681647940075 {'C': 10, 'class_weight': None, 'penalty': 'l1'}\n",
      "0.804681647940075 {'C': 10, 'class_weight': None, 'penalty': 'l2'}\n",
      "nan {'C': 10, 'class_weight': None, 'penalty': 'elasticnet'}\n"
     ]
    }
   ],
   "source": [
    "log_reg_cv_results = log_reg_search.cv_results_\n",
    "print_mean_score_params(log_reg_cv_results)"
   ]
  },
  {
   "cell_type": "code",
   "execution_count": 91,
   "metadata": {},
   "outputs": [
    {
     "data": {
      "text/plain": [
       "LogisticRegression(max_iter=1000, penalty='l1', random_state=42, solver='saga')"
      ]
     },
     "execution_count": 91,
     "metadata": {},
     "output_type": "execute_result"
    }
   ],
   "source": [
    "best_log_reg = log_reg_search.best_estimator_\n",
    "best_log_reg"
   ]
  },
  {
   "cell_type": "code",
   "execution_count": 92,
   "metadata": {},
   "outputs": [
    {
     "data": {
      "text/plain": [
       "0.8125701459034792"
      ]
     },
     "execution_count": 92,
     "metadata": {},
     "output_type": "execute_result"
    }
   ],
   "source": [
    "best_log_reg.score(titanic_prepared, titanic_labels)"
   ]
  },
  {
   "cell_type": "code",
   "execution_count": 93,
   "metadata": {},
   "outputs": [
    {
     "name": "stdout",
     "output_type": "stream",
     "text": [
      "Scores: [0.83333333 0.82022472 0.76404494 0.83146067 0.80898876 0.76404494\n",
      " 0.78651685 0.78651685 0.82022472 0.84269663]\n",
      "Mean: 0.8058052434456929\n",
      "Standard deviation: 0.027266972239553294\n"
     ]
    }
   ],
   "source": [
    "display_cv_scores(best_log_reg)"
   ]
  },
  {
   "cell_type": "code",
   "execution_count": 94,
   "metadata": {},
   "outputs": [
    {
     "name": "stdout",
     "output_type": "stream",
     "text": [
      "Accuracy: 0.8125701459034792\n",
      "\n",
      "Confusion matrix:\n",
      "[[476  73]\n",
      " [ 94 248]]\n",
      "\n",
      "Classification report:\n",
      "              precision    recall  f1-score   support\n",
      "\n",
      "           0       0.84      0.87      0.85       549\n",
      "           1       0.77      0.73      0.75       342\n",
      "\n",
      "    accuracy                           0.81       891\n",
      "   macro avg       0.80      0.80      0.80       891\n",
      "weighted avg       0.81      0.81      0.81       891\n",
      "\n"
     ]
    }
   ],
   "source": [
    "display_metrics(best_log_reg)"
   ]
  },
  {
   "cell_type": "markdown",
   "metadata": {},
   "source": [
    "#### C centred around 1.0"
   ]
  },
  {
   "cell_type": "code",
   "execution_count": 95,
   "metadata": {},
   "outputs": [
    {
     "name": "stdout",
     "output_type": "stream",
     "text": [
      "Fitting 10 folds for each of 66 candidates, totalling 660 fits\n"
     ]
    },
    {
     "data": {
      "text/plain": [
       "GridSearchCV(cv=10,\n",
       "             estimator=LogisticRegression(max_iter=1000, random_state=42,\n",
       "                                          solver='saga'),\n",
       "             n_jobs=-1,\n",
       "             param_grid={'C': [0.6, 0.7, 0.8, 0.9, 1.0, 1.1, 1.2, 1.3, 1.4, 1.5,\n",
       "                               2.0],\n",
       "                         'class_weight': ['balanced', None],\n",
       "                         'penalty': ['none', 'l1', 'l2']},\n",
       "             verbose=3)"
      ]
     },
     "execution_count": 95,
     "metadata": {},
     "output_type": "execute_result"
    }
   ],
   "source": [
    "log_reg_grid_0 = {\n",
    "    'penalty': [\"none\", \"l1\", \"l2\"],\n",
    "    'C': [0.6, 0.7, 0.8, 0.9, 1.0, 1.1, 1.2, 1.3, 1.4, 1.5, 2.0],\n",
    "    'class_weight': [\"balanced\", None],  \n",
    "}\n",
    "log_reg_search = perform_grid_search(log_reg_base, log_reg_grid_0)\n",
    "log_reg_search"
   ]
  },
  {
   "cell_type": "code",
   "execution_count": 96,
   "metadata": {},
   "outputs": [
    {
     "data": {
      "text/plain": [
       "LogisticRegression(C=0.9, max_iter=1000, penalty='l1', random_state=42,\n",
       "                   solver='saga')"
      ]
     },
     "execution_count": 96,
     "metadata": {},
     "output_type": "execute_result"
    }
   ],
   "source": [
    "best_log_reg = log_reg_search.best_estimator_\n",
    "best_log_reg"
   ]
  },
  {
   "cell_type": "code",
   "execution_count": 97,
   "metadata": {},
   "outputs": [
    {
     "name": "stdout",
     "output_type": "stream",
     "text": [
      "Scores: [0.83333333 0.82022472 0.76404494 0.83146067 0.79775281 0.76404494\n",
      " 0.78651685 0.78651685 0.83146067 0.85393258]\n",
      "Mean: 0.8069288389513108\n",
      "Standard deviation: 0.029803534048061946\n"
     ]
    }
   ],
   "source": [
    "display_cv_scores(best_log_reg)"
   ]
  },
  {
   "cell_type": "code",
   "execution_count": 98,
   "metadata": {},
   "outputs": [
    {
     "name": "stdout",
     "output_type": "stream",
     "text": [
      "Accuracy: 0.8125701459034792\n",
      "\n",
      "Confusion matrix:\n",
      "[[476  73]\n",
      " [ 94 248]]\n",
      "\n",
      "Classification report:\n",
      "              precision    recall  f1-score   support\n",
      "\n",
      "           0       0.84      0.87      0.85       549\n",
      "           1       0.77      0.73      0.75       342\n",
      "\n",
      "    accuracy                           0.81       891\n",
      "   macro avg       0.80      0.80      0.80       891\n",
      "weighted avg       0.81      0.81      0.81       891\n",
      "\n"
     ]
    }
   ],
   "source": [
    "display_metrics(best_log_reg)"
   ]
  },
  {
   "cell_type": "markdown",
   "metadata": {},
   "source": [
    "#### All of my models are unbalanced in their mistakes, with FN > FP, other than NaiveBayes. NaiveBayes doesn't output very accurate confidence scores/probabilities, so let's build a LogisticRegressor with high negative precision, and then build an ensemble leveraging the differences in three models:\n",
    "- RandomForest : very accurate, but probably high variance\n",
    "- SVM(kernel=rbf) : close cv / training set scores. Might be slightly underfitting\n",
    "- LogisticRegressor : More balanced than the others, and linear"
   ]
  },
  {
   "cell_type": "code",
   "execution_count": 99,
   "metadata": {},
   "outputs": [
    {
     "data": {
      "text/plain": [
       "StackingClassifier(estimators=[('rf',\n",
       "                                RandomForestClassifier(bootstrap=False,\n",
       "                                                       min_samples_split=15,\n",
       "                                                       n_estimators=50,\n",
       "                                                       random_state=42)),\n",
       "                               ('svc_rbf', SVC(C=1.65, gamma=0.08)),\n",
       "                               ('log_reg',\n",
       "                                LogisticRegression(C=0.9, max_iter=1000,\n",
       "                                                   penalty='l1',\n",
       "                                                   random_state=42,\n",
       "                                                   solver='saga'))],\n",
       "                   final_estimator=SVC())"
      ]
     },
     "execution_count": 99,
     "metadata": {},
     "output_type": "execute_result"
    }
   ],
   "source": [
    "from sklearn.ensemble import StackingClassifier\n",
    "\n",
    "estimators = [\n",
    "    ('rf', best_rf),\n",
    "    ('svc_rbf', best_svc_rbf),\n",
    "    ('log_reg', best_log_reg)\n",
    "]\n",
    "clf = StackingClassifier(\n",
    "    estimators=estimators, final_estimator=SVC()\n",
    ")\n",
    "clf.fit(titanic_prepared, titanic_labels)"
   ]
  },
  {
   "cell_type": "code",
   "execution_count": 100,
   "metadata": {},
   "outputs": [
    {
     "data": {
      "text/plain": [
       "0.8428731762065096"
      ]
     },
     "execution_count": 100,
     "metadata": {},
     "output_type": "execute_result"
    }
   ],
   "source": [
    "clf.score(titanic_prepared, titanic_labels)"
   ]
  },
  {
   "cell_type": "code",
   "execution_count": 101,
   "metadata": {},
   "outputs": [
    {
     "name": "stdout",
     "output_type": "stream",
     "text": [
      "Scores: [0.8        0.87640449 0.75280899 0.86516854 0.83146067 0.7752809\n",
      " 0.84269663 0.79775281 0.87640449 0.85393258]\n",
      "Mean: 0.8271910112359551\n",
      "Standard deviation: 0.04134403983765025\n"
     ]
    }
   ],
   "source": [
    "display_cv_scores(clf)"
   ]
  },
  {
   "cell_type": "code",
   "execution_count": 102,
   "metadata": {},
   "outputs": [
    {
     "name": "stdout",
     "output_type": "stream",
     "text": [
      "Accuracy: 0.8428731762065096\n",
      "\n",
      "Confusion matrix:\n",
      "[[497  52]\n",
      " [ 88 254]]\n",
      "\n",
      "Classification report:\n",
      "              precision    recall  f1-score   support\n",
      "\n",
      "           0       0.85      0.91      0.88       549\n",
      "           1       0.83      0.74      0.78       342\n",
      "\n",
      "    accuracy                           0.84       891\n",
      "   macro avg       0.84      0.82      0.83       891\n",
      "weighted avg       0.84      0.84      0.84       891\n",
      "\n"
     ]
    }
   ],
   "source": [
    "display_metrics(clf)"
   ]
  },
  {
   "cell_type": "markdown",
   "metadata": {},
   "source": [
    "# Predictions"
   ]
  },
  {
   "cell_type": "code",
   "execution_count": 103,
   "metadata": {},
   "outputs": [
    {
     "data": {
      "text/plain": [
       "<module 'ntpath' from 'C:\\\\Anaconda3\\\\envs\\\\mlenv1\\\\lib\\\\ntpath.py'>"
      ]
     },
     "execution_count": 103,
     "metadata": {},
     "output_type": "execute_result"
    }
   ],
   "source": [
    "def load_titanic_test_data(titanic_data_path=DATA_PATH):\n",
    "    csv_path = os.path.join(titanic_data_path, \"test.csv\")\n",
    "    return pd.read_csv(csv_path)\n",
    "os.path"
   ]
  },
  {
   "cell_type": "code",
   "execution_count": 104,
   "metadata": {},
   "outputs": [
    {
     "data": {
      "text/html": [
       "<div>\n",
       "<style scoped>\n",
       "    .dataframe tbody tr th:only-of-type {\n",
       "        vertical-align: middle;\n",
       "    }\n",
       "\n",
       "    .dataframe tbody tr th {\n",
       "        vertical-align: top;\n",
       "    }\n",
       "\n",
       "    .dataframe thead th {\n",
       "        text-align: right;\n",
       "    }\n",
       "</style>\n",
       "<table border=\"1\" class=\"dataframe\">\n",
       "  <thead>\n",
       "    <tr style=\"text-align: right;\">\n",
       "      <th></th>\n",
       "      <th>PassengerId</th>\n",
       "      <th>Pclass</th>\n",
       "      <th>Name</th>\n",
       "      <th>Sex</th>\n",
       "      <th>Age</th>\n",
       "      <th>SibSp</th>\n",
       "      <th>Parch</th>\n",
       "      <th>Ticket</th>\n",
       "      <th>Fare</th>\n",
       "      <th>Cabin</th>\n",
       "      <th>Embarked</th>\n",
       "    </tr>\n",
       "  </thead>\n",
       "  <tbody>\n",
       "    <tr>\n",
       "      <th>0</th>\n",
       "      <td>892</td>\n",
       "      <td>3</td>\n",
       "      <td>Kelly, Mr. James</td>\n",
       "      <td>male</td>\n",
       "      <td>34.5</td>\n",
       "      <td>0</td>\n",
       "      <td>0</td>\n",
       "      <td>330911</td>\n",
       "      <td>7.8292</td>\n",
       "      <td>NaN</td>\n",
       "      <td>Q</td>\n",
       "    </tr>\n",
       "    <tr>\n",
       "      <th>1</th>\n",
       "      <td>893</td>\n",
       "      <td>3</td>\n",
       "      <td>Wilkes, Mrs. James (Ellen Needs)</td>\n",
       "      <td>female</td>\n",
       "      <td>47.0</td>\n",
       "      <td>1</td>\n",
       "      <td>0</td>\n",
       "      <td>363272</td>\n",
       "      <td>7.0000</td>\n",
       "      <td>NaN</td>\n",
       "      <td>S</td>\n",
       "    </tr>\n",
       "    <tr>\n",
       "      <th>2</th>\n",
       "      <td>894</td>\n",
       "      <td>2</td>\n",
       "      <td>Myles, Mr. Thomas Francis</td>\n",
       "      <td>male</td>\n",
       "      <td>62.0</td>\n",
       "      <td>0</td>\n",
       "      <td>0</td>\n",
       "      <td>240276</td>\n",
       "      <td>9.6875</td>\n",
       "      <td>NaN</td>\n",
       "      <td>Q</td>\n",
       "    </tr>\n",
       "    <tr>\n",
       "      <th>3</th>\n",
       "      <td>895</td>\n",
       "      <td>3</td>\n",
       "      <td>Wirz, Mr. Albert</td>\n",
       "      <td>male</td>\n",
       "      <td>27.0</td>\n",
       "      <td>0</td>\n",
       "      <td>0</td>\n",
       "      <td>315154</td>\n",
       "      <td>8.6625</td>\n",
       "      <td>NaN</td>\n",
       "      <td>S</td>\n",
       "    </tr>\n",
       "    <tr>\n",
       "      <th>4</th>\n",
       "      <td>896</td>\n",
       "      <td>3</td>\n",
       "      <td>Hirvonen, Mrs. Alexander (Helga E Lindqvist)</td>\n",
       "      <td>female</td>\n",
       "      <td>22.0</td>\n",
       "      <td>1</td>\n",
       "      <td>1</td>\n",
       "      <td>3101298</td>\n",
       "      <td>12.2875</td>\n",
       "      <td>NaN</td>\n",
       "      <td>S</td>\n",
       "    </tr>\n",
       "  </tbody>\n",
       "</table>\n",
       "</div>"
      ],
      "text/plain": [
       "   PassengerId  Pclass                                          Name     Sex  \\\n",
       "0          892       3                              Kelly, Mr. James    male   \n",
       "1          893       3              Wilkes, Mrs. James (Ellen Needs)  female   \n",
       "2          894       2                     Myles, Mr. Thomas Francis    male   \n",
       "3          895       3                              Wirz, Mr. Albert    male   \n",
       "4          896       3  Hirvonen, Mrs. Alexander (Helga E Lindqvist)  female   \n",
       "\n",
       "    Age  SibSp  Parch   Ticket     Fare Cabin Embarked  \n",
       "0  34.5      0      0   330911   7.8292   NaN        Q  \n",
       "1  47.0      1      0   363272   7.0000   NaN        S  \n",
       "2  62.0      0      0   240276   9.6875   NaN        Q  \n",
       "3  27.0      0      0   315154   8.6625   NaN        S  \n",
       "4  22.0      1      1  3101298  12.2875   NaN        S  "
      ]
     },
     "execution_count": 104,
     "metadata": {},
     "output_type": "execute_result"
    }
   ],
   "source": [
    "test = load_titanic_test_data()\n",
    "test.head()"
   ]
  },
  {
   "cell_type": "code",
   "execution_count": 105,
   "metadata": {},
   "outputs": [
    {
     "data": {
      "text/html": [
       "<div>\n",
       "<style scoped>\n",
       "    .dataframe tbody tr th:only-of-type {\n",
       "        vertical-align: middle;\n",
       "    }\n",
       "\n",
       "    .dataframe tbody tr th {\n",
       "        vertical-align: top;\n",
       "    }\n",
       "\n",
       "    .dataframe thead th {\n",
       "        text-align: right;\n",
       "    }\n",
       "</style>\n",
       "<table border=\"1\" class=\"dataframe\">\n",
       "  <thead>\n",
       "    <tr style=\"text-align: right;\">\n",
       "      <th></th>\n",
       "      <th>PassengerId</th>\n",
       "      <th>Pclass</th>\n",
       "      <th>Age</th>\n",
       "      <th>SibSp</th>\n",
       "      <th>Parch</th>\n",
       "      <th>Fare</th>\n",
       "    </tr>\n",
       "  </thead>\n",
       "  <tbody>\n",
       "    <tr>\n",
       "      <th>count</th>\n",
       "      <td>418.000000</td>\n",
       "      <td>418.000000</td>\n",
       "      <td>332.000000</td>\n",
       "      <td>418.000000</td>\n",
       "      <td>418.000000</td>\n",
       "      <td>417.000000</td>\n",
       "    </tr>\n",
       "    <tr>\n",
       "      <th>mean</th>\n",
       "      <td>1100.500000</td>\n",
       "      <td>2.265550</td>\n",
       "      <td>30.272590</td>\n",
       "      <td>0.447368</td>\n",
       "      <td>0.392344</td>\n",
       "      <td>35.627188</td>\n",
       "    </tr>\n",
       "    <tr>\n",
       "      <th>std</th>\n",
       "      <td>120.810458</td>\n",
       "      <td>0.841838</td>\n",
       "      <td>14.181209</td>\n",
       "      <td>0.896760</td>\n",
       "      <td>0.981429</td>\n",
       "      <td>55.907576</td>\n",
       "    </tr>\n",
       "    <tr>\n",
       "      <th>min</th>\n",
       "      <td>892.000000</td>\n",
       "      <td>1.000000</td>\n",
       "      <td>0.170000</td>\n",
       "      <td>0.000000</td>\n",
       "      <td>0.000000</td>\n",
       "      <td>0.000000</td>\n",
       "    </tr>\n",
       "    <tr>\n",
       "      <th>25%</th>\n",
       "      <td>996.250000</td>\n",
       "      <td>1.000000</td>\n",
       "      <td>21.000000</td>\n",
       "      <td>0.000000</td>\n",
       "      <td>0.000000</td>\n",
       "      <td>7.895800</td>\n",
       "    </tr>\n",
       "    <tr>\n",
       "      <th>50%</th>\n",
       "      <td>1100.500000</td>\n",
       "      <td>3.000000</td>\n",
       "      <td>27.000000</td>\n",
       "      <td>0.000000</td>\n",
       "      <td>0.000000</td>\n",
       "      <td>14.454200</td>\n",
       "    </tr>\n",
       "    <tr>\n",
       "      <th>75%</th>\n",
       "      <td>1204.750000</td>\n",
       "      <td>3.000000</td>\n",
       "      <td>39.000000</td>\n",
       "      <td>1.000000</td>\n",
       "      <td>0.000000</td>\n",
       "      <td>31.500000</td>\n",
       "    </tr>\n",
       "    <tr>\n",
       "      <th>max</th>\n",
       "      <td>1309.000000</td>\n",
       "      <td>3.000000</td>\n",
       "      <td>76.000000</td>\n",
       "      <td>8.000000</td>\n",
       "      <td>9.000000</td>\n",
       "      <td>512.329200</td>\n",
       "    </tr>\n",
       "  </tbody>\n",
       "</table>\n",
       "</div>"
      ],
      "text/plain": [
       "       PassengerId      Pclass         Age       SibSp       Parch        Fare\n",
       "count   418.000000  418.000000  332.000000  418.000000  418.000000  417.000000\n",
       "mean   1100.500000    2.265550   30.272590    0.447368    0.392344   35.627188\n",
       "std     120.810458    0.841838   14.181209    0.896760    0.981429   55.907576\n",
       "min     892.000000    1.000000    0.170000    0.000000    0.000000    0.000000\n",
       "25%     996.250000    1.000000   21.000000    0.000000    0.000000    7.895800\n",
       "50%    1100.500000    3.000000   27.000000    0.000000    0.000000   14.454200\n",
       "75%    1204.750000    3.000000   39.000000    1.000000    0.000000   31.500000\n",
       "max    1309.000000    3.000000   76.000000    8.000000    9.000000  512.329200"
      ]
     },
     "execution_count": 105,
     "metadata": {},
     "output_type": "execute_result"
    }
   ],
   "source": [
    "test.describe()"
   ]
  },
  {
   "cell_type": "code",
   "execution_count": 106,
   "metadata": {},
   "outputs": [
    {
     "name": "stdout",
     "output_type": "stream",
     "text": [
      "<class 'pandas.core.frame.DataFrame'>\n",
      "RangeIndex: 418 entries, 0 to 417\n",
      "Data columns (total 11 columns):\n",
      " #   Column       Non-Null Count  Dtype  \n",
      "---  ------       --------------  -----  \n",
      " 0   PassengerId  418 non-null    int64  \n",
      " 1   Pclass       418 non-null    int64  \n",
      " 2   Name         418 non-null    object \n",
      " 3   Sex          418 non-null    object \n",
      " 4   Age          332 non-null    float64\n",
      " 5   SibSp        418 non-null    int64  \n",
      " 6   Parch        418 non-null    int64  \n",
      " 7   Ticket       418 non-null    object \n",
      " 8   Fare         417 non-null    float64\n",
      " 9   Cabin        91 non-null     object \n",
      " 10  Embarked     418 non-null    object \n",
      "dtypes: float64(2), int64(4), object(5)\n",
      "memory usage: 36.0+ KB\n"
     ]
    }
   ],
   "source": [
    "test.info()"
   ]
  },
  {
   "cell_type": "code",
   "execution_count": 107,
   "metadata": {},
   "outputs": [
    {
     "name": "stdout",
     "output_type": "stream",
     "text": [
      "<class 'pandas.core.frame.DataFrame'>\n",
      "RangeIndex: 891 entries, 0 to 890\n",
      "Data columns (total 11 columns):\n",
      " #   Column       Non-Null Count  Dtype  \n",
      "---  ------       --------------  -----  \n",
      " 0   PassengerId  891 non-null    int64  \n",
      " 1   Pclass       891 non-null    int64  \n",
      " 2   Name         891 non-null    object \n",
      " 3   Sex          891 non-null    object \n",
      " 4   Age          714 non-null    float64\n",
      " 5   SibSp        891 non-null    int64  \n",
      " 6   Parch        891 non-null    int64  \n",
      " 7   Ticket       891 non-null    object \n",
      " 8   Fare         891 non-null    float64\n",
      " 9   Cabin        204 non-null    object \n",
      " 10  Embarked     889 non-null    object \n",
      "dtypes: float64(2), int64(4), object(5)\n",
      "memory usage: 76.7+ KB\n"
     ]
    }
   ],
   "source": [
    "titanic_features.info()"
   ]
  },
  {
   "cell_type": "code",
   "execution_count": 108,
   "metadata": {},
   "outputs": [
    {
     "name": "stdout",
     "output_type": "stream",
     "text": [
      "<class 'pandas.core.frame.DataFrame'>\n",
      "RangeIndex: 418 entries, 0 to 417\n",
      "Data columns (total 9 columns):\n",
      " #   Column       Non-Null Count  Dtype  \n",
      "---  ------       --------------  -----  \n",
      " 0   PassengerId  418 non-null    int64  \n",
      " 1   Pclass       418 non-null    int64  \n",
      " 2   Sex          418 non-null    object \n",
      " 3   Age          332 non-null    float64\n",
      " 4   SibSp        418 non-null    int64  \n",
      " 5   Parch        418 non-null    int64  \n",
      " 6   Fare         417 non-null    float64\n",
      " 7   Cabin        418 non-null    int64  \n",
      " 8   Embarked     418 non-null    object \n",
      "dtypes: float64(2), int64(5), object(2)\n",
      "memory usage: 29.5+ KB\n"
     ]
    }
   ],
   "source": [
    "test_processed = df_pipeline.fit_transform(test)\n",
    "test_processed.info()"
   ]
  },
  {
   "cell_type": "code",
   "execution_count": 109,
   "metadata": {},
   "outputs": [
    {
     "data": {
      "text/plain": [
       "(418, 14)"
      ]
     },
     "execution_count": 109,
     "metadata": {},
     "output_type": "execute_result"
    }
   ],
   "source": [
    "test_drop_processed = full_pipeline.fit_transform(test_processed)\n",
    "test_drop_processed.shape"
   ]
  },
  {
   "cell_type": "code",
   "execution_count": 110,
   "metadata": {},
   "outputs": [
    {
     "data": {
      "text/plain": [
       "array([0, 0, 0, 0, 1, 0, 1, 0, 1, 0, 0, 0, 1, 0, 1, 1, 0, 0, 1, 0, 0, 1,\n",
       "       1, 0, 1, 0, 1, 0, 1, 0, 0, 0, 1, 1, 1, 0, 1, 0, 0, 0, 0, 0, 0, 1,\n",
       "       1, 0, 0, 0, 1, 1, 0, 0, 1, 1, 0, 0, 0, 0, 0, 1, 0, 0, 0, 1, 1, 1,\n",
       "       1, 0, 0, 1, 1, 0, 1, 0, 1, 0, 0, 1, 0, 1, 1, 0, 0, 0, 0, 0, 1, 1,\n",
       "       1, 1, 1, 0, 1, 0, 0, 0, 1, 0, 1, 0, 1, 0, 0, 0, 1, 0, 0, 0, 0, 0,\n",
       "       0, 1, 1, 1, 1, 0, 0, 1, 0, 1, 1, 0, 1, 0, 0, 1, 0, 1, 0, 0, 0, 0,\n",
       "       0, 0, 0, 0, 0, 0, 1, 0, 0, 1, 0, 0, 0, 0, 0, 0, 0, 0, 1, 0, 0, 1,\n",
       "       0, 0, 1, 1, 0, 1, 1, 1, 1, 0, 0, 1, 0, 0, 1, 0, 0, 0, 0, 0, 0, 1,\n",
       "       1, 0, 1, 1, 0, 1, 1, 0, 1, 0, 1, 0, 0, 0, 0, 0, 0, 0, 1, 0, 1, 1,\n",
       "       0, 1, 1, 1, 0, 1, 0, 0, 0, 0, 1, 0, 0, 0, 0, 1, 0, 0, 0, 0, 1, 0,\n",
       "       1, 0, 1, 0, 1, 1, 0, 0, 0, 0, 0, 1, 0, 0, 1, 0, 0, 0, 1, 1, 1, 1,\n",
       "       0, 0, 0, 0, 1, 0, 1, 1, 1, 0, 1, 0, 0, 0, 0, 0, 1, 0, 0, 0, 1, 1,\n",
       "       0, 0, 0, 0, 1, 0, 0, 0, 1, 1, 0, 1, 0, 0, 0, 0, 0, 1, 0, 1, 1, 0,\n",
       "       0, 1, 0, 0, 0, 0, 0, 0, 0, 0, 1, 0, 0, 0, 0, 0, 0, 0, 0, 1, 1, 1,\n",
       "       0, 0, 0, 0, 0, 0, 1, 0, 1, 0, 0, 0, 0, 0, 0, 0, 1, 0, 1, 0, 0, 0,\n",
       "       1, 1, 0, 0, 0, 0, 0, 0, 0, 0, 0, 0, 0, 1, 0, 1, 0, 1, 0, 1, 1, 0,\n",
       "       0, 0, 1, 0, 1, 0, 0, 0, 0, 1, 1, 0, 1, 0, 0, 0, 1, 0, 0, 1, 0, 0,\n",
       "       1, 1, 0, 0, 0, 0, 0, 0, 1, 0, 0, 1, 0, 0, 0, 0, 0, 1, 0, 0, 0, 1,\n",
       "       0, 1, 0, 0, 1, 0, 1, 0, 0, 0, 0, 0, 0, 1, 0, 1, 1, 0, 1, 0, 0, 0],\n",
       "      dtype=int64)"
      ]
     },
     "execution_count": 110,
     "metadata": {},
     "output_type": "execute_result"
    }
   ],
   "source": [
    "predictions = best_rf.predict(test_drop_processed)\n",
    "predictions"
   ]
  },
  {
   "cell_type": "code",
   "execution_count": 111,
   "metadata": {},
   "outputs": [
    {
     "data": {
      "text/html": [
       "<div>\n",
       "<style scoped>\n",
       "    .dataframe tbody tr th:only-of-type {\n",
       "        vertical-align: middle;\n",
       "    }\n",
       "\n",
       "    .dataframe tbody tr th {\n",
       "        vertical-align: top;\n",
       "    }\n",
       "\n",
       "    .dataframe thead th {\n",
       "        text-align: right;\n",
       "    }\n",
       "</style>\n",
       "<table border=\"1\" class=\"dataframe\">\n",
       "  <thead>\n",
       "    <tr style=\"text-align: right;\">\n",
       "      <th></th>\n",
       "      <th>PassengerId</th>\n",
       "      <th>Survived</th>\n",
       "    </tr>\n",
       "  </thead>\n",
       "  <tbody>\n",
       "    <tr>\n",
       "      <th>0</th>\n",
       "      <td>892</td>\n",
       "      <td>0</td>\n",
       "    </tr>\n",
       "    <tr>\n",
       "      <th>1</th>\n",
       "      <td>893</td>\n",
       "      <td>0</td>\n",
       "    </tr>\n",
       "    <tr>\n",
       "      <th>2</th>\n",
       "      <td>894</td>\n",
       "      <td>0</td>\n",
       "    </tr>\n",
       "    <tr>\n",
       "      <th>3</th>\n",
       "      <td>895</td>\n",
       "      <td>0</td>\n",
       "    </tr>\n",
       "    <tr>\n",
       "      <th>4</th>\n",
       "      <td>896</td>\n",
       "      <td>1</td>\n",
       "    </tr>\n",
       "  </tbody>\n",
       "</table>\n",
       "</div>"
      ],
      "text/plain": [
       "   PassengerId  Survived\n",
       "0          892         0\n",
       "1          893         0\n",
       "2          894         0\n",
       "3          895         0\n",
       "4          896         1"
      ]
     },
     "execution_count": 111,
     "metadata": {},
     "output_type": "execute_result"
    }
   ],
   "source": [
    "submission = pd.DataFrame({'PassengerId':test['PassengerId'],'Survived':predictions})\n",
    "submission.head()"
   ]
  },
  {
   "cell_type": "code",
   "execution_count": 112,
   "metadata": {},
   "outputs": [
    {
     "name": "stdout",
     "output_type": "stream",
     "text": [
      "Saved file: TitanicPredictions_rf.csv\n"
     ]
    }
   ],
   "source": [
    "filename = 'TitanicPredictions_rf.csv'\n",
    "\n",
    "submission.to_csv(filename, index=False)\n",
    "\n",
    "print('Saved file: ' + filename)"
   ]
  }
 ],
 "metadata": {
  "kernelspec": {
   "display_name": "Python 3",
   "language": "python",
   "name": "python3"
  },
  "language_info": {
   "codemirror_mode": {
    "name": "ipython",
    "version": 3
   },
   "file_extension": ".py",
   "mimetype": "text/x-python",
   "name": "python",
   "nbconvert_exporter": "python",
   "pygments_lexer": "ipython3",
   "version": "3.6.13"
  },
  "toc": {
   "base_numbering": 1,
   "nav_menu": {},
   "number_sections": true,
   "sideBar": true,
   "skip_h1_title": false,
   "title_cell": "Table of Contents",
   "title_sidebar": "Contents",
   "toc_cell": false,
   "toc_position": {},
   "toc_section_display": true,
   "toc_window_display": false
  }
 },
 "nbformat": 4,
 "nbformat_minor": 2
}
